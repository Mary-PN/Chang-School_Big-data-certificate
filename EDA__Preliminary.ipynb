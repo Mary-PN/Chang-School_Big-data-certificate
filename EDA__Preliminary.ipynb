{
  "nbformat": 4,
  "nbformat_minor": 0,
  "metadata": {
    "colab": {
      "name": "EDA_ Preliminary.ipynb",
      "provenance": [],
      "collapsed_sections": []
    },
    "kernelspec": {
      "name": "python3",
      "display_name": "Python 3"
    },
    "language_info": {
      "name": "python"
    }
  },
  "cells": [
    {
      "cell_type": "markdown",
      "source": [
        "\n",
        "\n",
        "---------------------------------------------------------------------\n",
        "# **Exploratory Data Analysis** #1\n",
        "\n",
        ">***UC-Irvine Online Shoppers Purchasing Intention Dataset***\n",
        "---------------------------------------------------------------------"
      ],
      "metadata": {
        "id": "PVsjtKmlZu-z"
      }
    },
    {
      "cell_type": "markdown",
      "source": [
        "**Installing necessary packages**"
      ],
      "metadata": {
        "id": "6lD4aqFn_QKR"
      }
    },
    {
      "cell_type": "code",
      "source": [
        "!pip install scikit-learn"
      ],
      "metadata": {
        "id": "5lkwRu3hxQwQ"
      },
      "execution_count": null,
      "outputs": []
    },
    {
      "cell_type": "code",
      "source": [
        "!pip install seaborn"
      ],
      "metadata": {
        "id": "SrCTvj1orU0Y"
      },
      "execution_count": null,
      "outputs": []
    },
    {
      "cell_type": "code",
      "source": [
        "import numpy as np\n",
        "import pandas as pd\n",
        "from pandas.core.frame import DataFrame\n",
        "import matplotlib.pyplot as plt"
      ],
      "metadata": {
        "id": "4_89Bq9kxUub"
      },
      "execution_count": 69,
      "outputs": []
    },
    {
      "cell_type": "markdown",
      "source": [
        "**Reading the file to Pandas dataframe**"
      ],
      "metadata": {
        "id": "7Zk9_rizxR-L"
      }
    },
    {
      "cell_type": "code",
      "source": [
        "\n",
        "url = \"http://archive.ics.uci.edu/ml/machine-learning-databases/00468/online_shoppers_intention.csv\"\n",
        "df_original = pd.read_csv (url)"
      ],
      "metadata": {
        "id": "HlyOdLEe_qQN"
      },
      "execution_count": 70,
      "outputs": []
    },
    {
      "cell_type": "markdown",
      "source": [
        "**Looking at the first 10 rows of the dataset**"
      ],
      "metadata": {
        "id": "fVuBF6TXCePq"
      }
    },
    {
      "cell_type": "code",
      "source": [
        "df_original.head(10)"
      ],
      "metadata": {
        "colab": {
          "base_uri": "https://localhost:8080/",
          "height": 427
        },
        "id": "MRQ4Prz2Cjfh",
        "outputId": "d5cff748-997a-4d20-8e90-d4e91d7761ef"
      },
      "execution_count": 71,
      "outputs": [
        {
          "output_type": "execute_result",
          "data": {
            "text/plain": [
              "   Administrative  Administrative_Duration  Informational  \\\n",
              "0               0                      0.0              0   \n",
              "1               0                      0.0              0   \n",
              "2               0                      0.0              0   \n",
              "3               0                      0.0              0   \n",
              "4               0                      0.0              0   \n",
              "5               0                      0.0              0   \n",
              "6               0                      0.0              0   \n",
              "7               1                      0.0              0   \n",
              "8               0                      0.0              0   \n",
              "9               0                      0.0              0   \n",
              "\n",
              "   Informational_Duration  ProductRelated  ProductRelated_Duration  \\\n",
              "0                     0.0               1                 0.000000   \n",
              "1                     0.0               2                64.000000   \n",
              "2                     0.0               1                 0.000000   \n",
              "3                     0.0               2                 2.666667   \n",
              "4                     0.0              10               627.500000   \n",
              "5                     0.0              19               154.216667   \n",
              "6                     0.0               1                 0.000000   \n",
              "7                     0.0               0                 0.000000   \n",
              "8                     0.0               2                37.000000   \n",
              "9                     0.0               3               738.000000   \n",
              "\n",
              "   BounceRates  ExitRates  PageValues  SpecialDay Month  OperatingSystems  \\\n",
              "0     0.200000   0.200000         0.0         0.0   Feb                 1   \n",
              "1     0.000000   0.100000         0.0         0.0   Feb                 2   \n",
              "2     0.200000   0.200000         0.0         0.0   Feb                 4   \n",
              "3     0.050000   0.140000         0.0         0.0   Feb                 3   \n",
              "4     0.020000   0.050000         0.0         0.0   Feb                 3   \n",
              "5     0.015789   0.024561         0.0         0.0   Feb                 2   \n",
              "6     0.200000   0.200000         0.0         0.4   Feb                 2   \n",
              "7     0.200000   0.200000         0.0         0.0   Feb                 1   \n",
              "8     0.000000   0.100000         0.0         0.8   Feb                 2   \n",
              "9     0.000000   0.022222         0.0         0.4   Feb                 2   \n",
              "\n",
              "   Browser  Region  TrafficType        VisitorType  Weekend  Revenue  \n",
              "0        1       1            1  Returning_Visitor    False    False  \n",
              "1        2       1            2  Returning_Visitor    False    False  \n",
              "2        1       9            3  Returning_Visitor    False    False  \n",
              "3        2       2            4  Returning_Visitor    False    False  \n",
              "4        3       1            4  Returning_Visitor     True    False  \n",
              "5        2       1            3  Returning_Visitor    False    False  \n",
              "6        4       3            3  Returning_Visitor    False    False  \n",
              "7        2       1            5  Returning_Visitor     True    False  \n",
              "8        2       2            3  Returning_Visitor    False    False  \n",
              "9        4       1            2  Returning_Visitor    False    False  "
            ],
            "text/html": [
              "\n",
              "  <div id=\"df-c2090aaa-9c21-40f0-8c26-b7c31535c839\">\n",
              "    <div class=\"colab-df-container\">\n",
              "      <div>\n",
              "<style scoped>\n",
              "    .dataframe tbody tr th:only-of-type {\n",
              "        vertical-align: middle;\n",
              "    }\n",
              "\n",
              "    .dataframe tbody tr th {\n",
              "        vertical-align: top;\n",
              "    }\n",
              "\n",
              "    .dataframe thead th {\n",
              "        text-align: right;\n",
              "    }\n",
              "</style>\n",
              "<table border=\"1\" class=\"dataframe\">\n",
              "  <thead>\n",
              "    <tr style=\"text-align: right;\">\n",
              "      <th></th>\n",
              "      <th>Administrative</th>\n",
              "      <th>Administrative_Duration</th>\n",
              "      <th>Informational</th>\n",
              "      <th>Informational_Duration</th>\n",
              "      <th>ProductRelated</th>\n",
              "      <th>ProductRelated_Duration</th>\n",
              "      <th>BounceRates</th>\n",
              "      <th>ExitRates</th>\n",
              "      <th>PageValues</th>\n",
              "      <th>SpecialDay</th>\n",
              "      <th>Month</th>\n",
              "      <th>OperatingSystems</th>\n",
              "      <th>Browser</th>\n",
              "      <th>Region</th>\n",
              "      <th>TrafficType</th>\n",
              "      <th>VisitorType</th>\n",
              "      <th>Weekend</th>\n",
              "      <th>Revenue</th>\n",
              "    </tr>\n",
              "  </thead>\n",
              "  <tbody>\n",
              "    <tr>\n",
              "      <th>0</th>\n",
              "      <td>0</td>\n",
              "      <td>0.0</td>\n",
              "      <td>0</td>\n",
              "      <td>0.0</td>\n",
              "      <td>1</td>\n",
              "      <td>0.000000</td>\n",
              "      <td>0.200000</td>\n",
              "      <td>0.200000</td>\n",
              "      <td>0.0</td>\n",
              "      <td>0.0</td>\n",
              "      <td>Feb</td>\n",
              "      <td>1</td>\n",
              "      <td>1</td>\n",
              "      <td>1</td>\n",
              "      <td>1</td>\n",
              "      <td>Returning_Visitor</td>\n",
              "      <td>False</td>\n",
              "      <td>False</td>\n",
              "    </tr>\n",
              "    <tr>\n",
              "      <th>1</th>\n",
              "      <td>0</td>\n",
              "      <td>0.0</td>\n",
              "      <td>0</td>\n",
              "      <td>0.0</td>\n",
              "      <td>2</td>\n",
              "      <td>64.000000</td>\n",
              "      <td>0.000000</td>\n",
              "      <td>0.100000</td>\n",
              "      <td>0.0</td>\n",
              "      <td>0.0</td>\n",
              "      <td>Feb</td>\n",
              "      <td>2</td>\n",
              "      <td>2</td>\n",
              "      <td>1</td>\n",
              "      <td>2</td>\n",
              "      <td>Returning_Visitor</td>\n",
              "      <td>False</td>\n",
              "      <td>False</td>\n",
              "    </tr>\n",
              "    <tr>\n",
              "      <th>2</th>\n",
              "      <td>0</td>\n",
              "      <td>0.0</td>\n",
              "      <td>0</td>\n",
              "      <td>0.0</td>\n",
              "      <td>1</td>\n",
              "      <td>0.000000</td>\n",
              "      <td>0.200000</td>\n",
              "      <td>0.200000</td>\n",
              "      <td>0.0</td>\n",
              "      <td>0.0</td>\n",
              "      <td>Feb</td>\n",
              "      <td>4</td>\n",
              "      <td>1</td>\n",
              "      <td>9</td>\n",
              "      <td>3</td>\n",
              "      <td>Returning_Visitor</td>\n",
              "      <td>False</td>\n",
              "      <td>False</td>\n",
              "    </tr>\n",
              "    <tr>\n",
              "      <th>3</th>\n",
              "      <td>0</td>\n",
              "      <td>0.0</td>\n",
              "      <td>0</td>\n",
              "      <td>0.0</td>\n",
              "      <td>2</td>\n",
              "      <td>2.666667</td>\n",
              "      <td>0.050000</td>\n",
              "      <td>0.140000</td>\n",
              "      <td>0.0</td>\n",
              "      <td>0.0</td>\n",
              "      <td>Feb</td>\n",
              "      <td>3</td>\n",
              "      <td>2</td>\n",
              "      <td>2</td>\n",
              "      <td>4</td>\n",
              "      <td>Returning_Visitor</td>\n",
              "      <td>False</td>\n",
              "      <td>False</td>\n",
              "    </tr>\n",
              "    <tr>\n",
              "      <th>4</th>\n",
              "      <td>0</td>\n",
              "      <td>0.0</td>\n",
              "      <td>0</td>\n",
              "      <td>0.0</td>\n",
              "      <td>10</td>\n",
              "      <td>627.500000</td>\n",
              "      <td>0.020000</td>\n",
              "      <td>0.050000</td>\n",
              "      <td>0.0</td>\n",
              "      <td>0.0</td>\n",
              "      <td>Feb</td>\n",
              "      <td>3</td>\n",
              "      <td>3</td>\n",
              "      <td>1</td>\n",
              "      <td>4</td>\n",
              "      <td>Returning_Visitor</td>\n",
              "      <td>True</td>\n",
              "      <td>False</td>\n",
              "    </tr>\n",
              "    <tr>\n",
              "      <th>5</th>\n",
              "      <td>0</td>\n",
              "      <td>0.0</td>\n",
              "      <td>0</td>\n",
              "      <td>0.0</td>\n",
              "      <td>19</td>\n",
              "      <td>154.216667</td>\n",
              "      <td>0.015789</td>\n",
              "      <td>0.024561</td>\n",
              "      <td>0.0</td>\n",
              "      <td>0.0</td>\n",
              "      <td>Feb</td>\n",
              "      <td>2</td>\n",
              "      <td>2</td>\n",
              "      <td>1</td>\n",
              "      <td>3</td>\n",
              "      <td>Returning_Visitor</td>\n",
              "      <td>False</td>\n",
              "      <td>False</td>\n",
              "    </tr>\n",
              "    <tr>\n",
              "      <th>6</th>\n",
              "      <td>0</td>\n",
              "      <td>0.0</td>\n",
              "      <td>0</td>\n",
              "      <td>0.0</td>\n",
              "      <td>1</td>\n",
              "      <td>0.000000</td>\n",
              "      <td>0.200000</td>\n",
              "      <td>0.200000</td>\n",
              "      <td>0.0</td>\n",
              "      <td>0.4</td>\n",
              "      <td>Feb</td>\n",
              "      <td>2</td>\n",
              "      <td>4</td>\n",
              "      <td>3</td>\n",
              "      <td>3</td>\n",
              "      <td>Returning_Visitor</td>\n",
              "      <td>False</td>\n",
              "      <td>False</td>\n",
              "    </tr>\n",
              "    <tr>\n",
              "      <th>7</th>\n",
              "      <td>1</td>\n",
              "      <td>0.0</td>\n",
              "      <td>0</td>\n",
              "      <td>0.0</td>\n",
              "      <td>0</td>\n",
              "      <td>0.000000</td>\n",
              "      <td>0.200000</td>\n",
              "      <td>0.200000</td>\n",
              "      <td>0.0</td>\n",
              "      <td>0.0</td>\n",
              "      <td>Feb</td>\n",
              "      <td>1</td>\n",
              "      <td>2</td>\n",
              "      <td>1</td>\n",
              "      <td>5</td>\n",
              "      <td>Returning_Visitor</td>\n",
              "      <td>True</td>\n",
              "      <td>False</td>\n",
              "    </tr>\n",
              "    <tr>\n",
              "      <th>8</th>\n",
              "      <td>0</td>\n",
              "      <td>0.0</td>\n",
              "      <td>0</td>\n",
              "      <td>0.0</td>\n",
              "      <td>2</td>\n",
              "      <td>37.000000</td>\n",
              "      <td>0.000000</td>\n",
              "      <td>0.100000</td>\n",
              "      <td>0.0</td>\n",
              "      <td>0.8</td>\n",
              "      <td>Feb</td>\n",
              "      <td>2</td>\n",
              "      <td>2</td>\n",
              "      <td>2</td>\n",
              "      <td>3</td>\n",
              "      <td>Returning_Visitor</td>\n",
              "      <td>False</td>\n",
              "      <td>False</td>\n",
              "    </tr>\n",
              "    <tr>\n",
              "      <th>9</th>\n",
              "      <td>0</td>\n",
              "      <td>0.0</td>\n",
              "      <td>0</td>\n",
              "      <td>0.0</td>\n",
              "      <td>3</td>\n",
              "      <td>738.000000</td>\n",
              "      <td>0.000000</td>\n",
              "      <td>0.022222</td>\n",
              "      <td>0.0</td>\n",
              "      <td>0.4</td>\n",
              "      <td>Feb</td>\n",
              "      <td>2</td>\n",
              "      <td>4</td>\n",
              "      <td>1</td>\n",
              "      <td>2</td>\n",
              "      <td>Returning_Visitor</td>\n",
              "      <td>False</td>\n",
              "      <td>False</td>\n",
              "    </tr>\n",
              "  </tbody>\n",
              "</table>\n",
              "</div>\n",
              "      <button class=\"colab-df-convert\" onclick=\"convertToInteractive('df-c2090aaa-9c21-40f0-8c26-b7c31535c839')\"\n",
              "              title=\"Convert this dataframe to an interactive table.\"\n",
              "              style=\"display:none;\">\n",
              "        \n",
              "  <svg xmlns=\"http://www.w3.org/2000/svg\" height=\"24px\"viewBox=\"0 0 24 24\"\n",
              "       width=\"24px\">\n",
              "    <path d=\"M0 0h24v24H0V0z\" fill=\"none\"/>\n",
              "    <path d=\"M18.56 5.44l.94 2.06.94-2.06 2.06-.94-2.06-.94-.94-2.06-.94 2.06-2.06.94zm-11 1L8.5 8.5l.94-2.06 2.06-.94-2.06-.94L8.5 2.5l-.94 2.06-2.06.94zm10 10l.94 2.06.94-2.06 2.06-.94-2.06-.94-.94-2.06-.94 2.06-2.06.94z\"/><path d=\"M17.41 7.96l-1.37-1.37c-.4-.4-.92-.59-1.43-.59-.52 0-1.04.2-1.43.59L10.3 9.45l-7.72 7.72c-.78.78-.78 2.05 0 2.83L4 21.41c.39.39.9.59 1.41.59.51 0 1.02-.2 1.41-.59l7.78-7.78 2.81-2.81c.8-.78.8-2.07 0-2.86zM5.41 20L4 18.59l7.72-7.72 1.47 1.35L5.41 20z\"/>\n",
              "  </svg>\n",
              "      </button>\n",
              "      \n",
              "  <style>\n",
              "    .colab-df-container {\n",
              "      display:flex;\n",
              "      flex-wrap:wrap;\n",
              "      gap: 12px;\n",
              "    }\n",
              "\n",
              "    .colab-df-convert {\n",
              "      background-color: #E8F0FE;\n",
              "      border: none;\n",
              "      border-radius: 50%;\n",
              "      cursor: pointer;\n",
              "      display: none;\n",
              "      fill: #1967D2;\n",
              "      height: 32px;\n",
              "      padding: 0 0 0 0;\n",
              "      width: 32px;\n",
              "    }\n",
              "\n",
              "    .colab-df-convert:hover {\n",
              "      background-color: #E2EBFA;\n",
              "      box-shadow: 0px 1px 2px rgba(60, 64, 67, 0.3), 0px 1px 3px 1px rgba(60, 64, 67, 0.15);\n",
              "      fill: #174EA6;\n",
              "    }\n",
              "\n",
              "    [theme=dark] .colab-df-convert {\n",
              "      background-color: #3B4455;\n",
              "      fill: #D2E3FC;\n",
              "    }\n",
              "\n",
              "    [theme=dark] .colab-df-convert:hover {\n",
              "      background-color: #434B5C;\n",
              "      box-shadow: 0px 1px 3px 1px rgba(0, 0, 0, 0.15);\n",
              "      filter: drop-shadow(0px 1px 2px rgba(0, 0, 0, 0.3));\n",
              "      fill: #FFFFFF;\n",
              "    }\n",
              "  </style>\n",
              "\n",
              "      <script>\n",
              "        const buttonEl =\n",
              "          document.querySelector('#df-c2090aaa-9c21-40f0-8c26-b7c31535c839 button.colab-df-convert');\n",
              "        buttonEl.style.display =\n",
              "          google.colab.kernel.accessAllowed ? 'block' : 'none';\n",
              "\n",
              "        async function convertToInteractive(key) {\n",
              "          const element = document.querySelector('#df-c2090aaa-9c21-40f0-8c26-b7c31535c839');\n",
              "          const dataTable =\n",
              "            await google.colab.kernel.invokeFunction('convertToInteractive',\n",
              "                                                     [key], {});\n",
              "          if (!dataTable) return;\n",
              "\n",
              "          const docLinkHtml = 'Like what you see? Visit the ' +\n",
              "            '<a target=\"_blank\" href=https://colab.research.google.com/notebooks/data_table.ipynb>data table notebook</a>'\n",
              "            + ' to learn more about interactive tables.';\n",
              "          element.innerHTML = '';\n",
              "          dataTable['output_type'] = 'display_data';\n",
              "          await google.colab.output.renderOutput(dataTable, element);\n",
              "          const docLink = document.createElement('div');\n",
              "          docLink.innerHTML = docLinkHtml;\n",
              "          element.appendChild(docLink);\n",
              "        }\n",
              "      </script>\n",
              "    </div>\n",
              "  </div>\n",
              "  "
            ]
          },
          "metadata": {},
          "execution_count": 71
        }
      ]
    },
    {
      "cell_type": "markdown",
      "source": [
        "**Checking the number of attributes and observations**"
      ],
      "metadata": {
        "id": "HqrRGAej_7w7"
      }
    },
    {
      "cell_type": "code",
      "source": [
        "from numpy.ma.core import shape\n",
        "shape(df_original)"
      ],
      "metadata": {
        "colab": {
          "base_uri": "https://localhost:8080/"
        },
        "id": "Jft8EG3FBCtF",
        "outputId": "0614e6e4-2cd0-4b9d-8a30-f01695653130"
      },
      "execution_count": 72,
      "outputs": [
        {
          "output_type": "execute_result",
          "data": {
            "text/plain": [
              "(18, 12330)"
            ]
          },
          "metadata": {},
          "execution_count": 72
        }
      ]
    },
    {
      "cell_type": "markdown",
      "source": [
        "*   As we can see the data has 18 attributes and 12330 observations. \n",
        "\n",
        "\n"
      ],
      "metadata": {
        "id": "kheqIE9_BLrr"
      }
    },
    {
      "cell_type": "markdown",
      "source": [
        "**Checking the name and type of attributes**"
      ],
      "metadata": {
        "id": "UqulnjjfBhA5"
      }
    },
    {
      "cell_type": "code",
      "source": [
        "df_original.dtypes"
      ],
      "metadata": {
        "colab": {
          "base_uri": "https://localhost:8080/"
        },
        "id": "2scxXvTLBn8P",
        "outputId": "5f742dcd-cadf-4e43-f1c0-d8e59c59548b"
      },
      "execution_count": 73,
      "outputs": [
        {
          "output_type": "execute_result",
          "data": {
            "text/plain": [
              "Administrative               int64\n",
              "Administrative_Duration    float64\n",
              "Informational                int64\n",
              "Informational_Duration     float64\n",
              "ProductRelated               int64\n",
              "ProductRelated_Duration    float64\n",
              "BounceRates                float64\n",
              "ExitRates                  float64\n",
              "PageValues                 float64\n",
              "SpecialDay                 float64\n",
              "Month                       object\n",
              "OperatingSystems             int64\n",
              "Browser                      int64\n",
              "Region                       int64\n",
              "TrafficType                  int64\n",
              "VisitorType                 object\n",
              "Weekend                       bool\n",
              "Revenue                       bool\n",
              "dtype: object"
            ]
          },
          "metadata": {},
          "execution_count": 73
        }
      ]
    },
    {
      "cell_type": "markdown",
      "source": [
        "*   The data consist of the fllowing datatypes: 2 boolean, 7 float64, 7 int64 and 2 objects. We will look into each attribute further. "
      ],
      "metadata": {
        "id": "gfSEkEXK1Ekd"
      }
    },
    {
      "cell_type": "markdown",
      "source": [
        "**checking for missing values**"
      ],
      "metadata": {
        "id": "q6R7_asS0Bxy"
      }
    },
    {
      "cell_type": "code",
      "source": [
        "df_original.isnull().sum()"
      ],
      "metadata": {
        "colab": {
          "base_uri": "https://localhost:8080/"
        },
        "id": "bz4WzvGC01mw",
        "outputId": "06873499-8f79-474e-d400-fb2c01da1115"
      },
      "execution_count": 74,
      "outputs": [
        {
          "output_type": "execute_result",
          "data": {
            "text/plain": [
              "Administrative             0\n",
              "Administrative_Duration    0\n",
              "Informational              0\n",
              "Informational_Duration     0\n",
              "ProductRelated             0\n",
              "ProductRelated_Duration    0\n",
              "BounceRates                0\n",
              "ExitRates                  0\n",
              "PageValues                 0\n",
              "SpecialDay                 0\n",
              "Month                      0\n",
              "OperatingSystems           0\n",
              "Browser                    0\n",
              "Region                     0\n",
              "TrafficType                0\n",
              "VisitorType                0\n",
              "Weekend                    0\n",
              "Revenue                    0\n",
              "dtype: int64"
            ]
          },
          "metadata": {},
          "execution_count": 74
        }
      ]
    },
    {
      "cell_type": "markdown",
      "source": [
        " *   There are no missing values."
      ],
      "metadata": {
        "id": "AgmkBu52E3zj"
      }
    },
    {
      "cell_type": "markdown",
      "source": [
        "**Exploring the basic discriptive statistics of all attributes**"
      ],
      "metadata": {
        "id": "eg1RCIyO0T2O"
      }
    },
    {
      "cell_type": "code",
      "source": [
        "df_original.describe(include='all')"
      ],
      "metadata": {
        "colab": {
          "base_uri": "https://localhost:8080/",
          "height": 458
        },
        "id": "a7K4bCoSzTK0",
        "outputId": "2872c518-c9a4-4179-f94b-1041176807b7"
      },
      "execution_count": 75,
      "outputs": [
        {
          "output_type": "execute_result",
          "data": {
            "text/plain": [
              "        Administrative  Administrative_Duration  Informational  \\\n",
              "count     12330.000000             12330.000000   12330.000000   \n",
              "unique             NaN                      NaN            NaN   \n",
              "top                NaN                      NaN            NaN   \n",
              "freq               NaN                      NaN            NaN   \n",
              "mean          2.315166                80.818611       0.503569   \n",
              "std           3.321784               176.779107       1.270156   \n",
              "min           0.000000                 0.000000       0.000000   \n",
              "25%           0.000000                 0.000000       0.000000   \n",
              "50%           1.000000                 7.500000       0.000000   \n",
              "75%           4.000000                93.256250       0.000000   \n",
              "max          27.000000              3398.750000      24.000000   \n",
              "\n",
              "        Informational_Duration  ProductRelated  ProductRelated_Duration  \\\n",
              "count             12330.000000    12330.000000             12330.000000   \n",
              "unique                     NaN             NaN                      NaN   \n",
              "top                        NaN             NaN                      NaN   \n",
              "freq                       NaN             NaN                      NaN   \n",
              "mean                 34.472398       31.731468              1194.746220   \n",
              "std                 140.749294       44.475503              1913.669288   \n",
              "min                   0.000000        0.000000                 0.000000   \n",
              "25%                   0.000000        7.000000               184.137500   \n",
              "50%                   0.000000       18.000000               598.936905   \n",
              "75%                   0.000000       38.000000              1464.157214   \n",
              "max                2549.375000      705.000000             63973.522230   \n",
              "\n",
              "         BounceRates     ExitRates    PageValues    SpecialDay  Month  \\\n",
              "count   12330.000000  12330.000000  12330.000000  12330.000000  12330   \n",
              "unique           NaN           NaN           NaN           NaN     10   \n",
              "top              NaN           NaN           NaN           NaN    May   \n",
              "freq             NaN           NaN           NaN           NaN   3364   \n",
              "mean        0.022191      0.043073      5.889258      0.061427    NaN   \n",
              "std         0.048488      0.048597     18.568437      0.198917    NaN   \n",
              "min         0.000000      0.000000      0.000000      0.000000    NaN   \n",
              "25%         0.000000      0.014286      0.000000      0.000000    NaN   \n",
              "50%         0.003112      0.025156      0.000000      0.000000    NaN   \n",
              "75%         0.016813      0.050000      0.000000      0.000000    NaN   \n",
              "max         0.200000      0.200000    361.763742      1.000000    NaN   \n",
              "\n",
              "        OperatingSystems       Browser        Region   TrafficType  \\\n",
              "count       12330.000000  12330.000000  12330.000000  12330.000000   \n",
              "unique               NaN           NaN           NaN           NaN   \n",
              "top                  NaN           NaN           NaN           NaN   \n",
              "freq                 NaN           NaN           NaN           NaN   \n",
              "mean            2.124006      2.357097      3.147364      4.069586   \n",
              "std             0.911325      1.717277      2.401591      4.025169   \n",
              "min             1.000000      1.000000      1.000000      1.000000   \n",
              "25%             2.000000      2.000000      1.000000      2.000000   \n",
              "50%             2.000000      2.000000      3.000000      2.000000   \n",
              "75%             3.000000      2.000000      4.000000      4.000000   \n",
              "max             8.000000     13.000000      9.000000     20.000000   \n",
              "\n",
              "              VisitorType Weekend Revenue  \n",
              "count               12330   12330   12330  \n",
              "unique                  3       2       2  \n",
              "top     Returning_Visitor   False   False  \n",
              "freq                10551    9462   10422  \n",
              "mean                  NaN     NaN     NaN  \n",
              "std                   NaN     NaN     NaN  \n",
              "min                   NaN     NaN     NaN  \n",
              "25%                   NaN     NaN     NaN  \n",
              "50%                   NaN     NaN     NaN  \n",
              "75%                   NaN     NaN     NaN  \n",
              "max                   NaN     NaN     NaN  "
            ],
            "text/html": [
              "\n",
              "  <div id=\"df-383a74bd-ef2b-4c6d-a7dd-a595009810b3\">\n",
              "    <div class=\"colab-df-container\">\n",
              "      <div>\n",
              "<style scoped>\n",
              "    .dataframe tbody tr th:only-of-type {\n",
              "        vertical-align: middle;\n",
              "    }\n",
              "\n",
              "    .dataframe tbody tr th {\n",
              "        vertical-align: top;\n",
              "    }\n",
              "\n",
              "    .dataframe thead th {\n",
              "        text-align: right;\n",
              "    }\n",
              "</style>\n",
              "<table border=\"1\" class=\"dataframe\">\n",
              "  <thead>\n",
              "    <tr style=\"text-align: right;\">\n",
              "      <th></th>\n",
              "      <th>Administrative</th>\n",
              "      <th>Administrative_Duration</th>\n",
              "      <th>Informational</th>\n",
              "      <th>Informational_Duration</th>\n",
              "      <th>ProductRelated</th>\n",
              "      <th>ProductRelated_Duration</th>\n",
              "      <th>BounceRates</th>\n",
              "      <th>ExitRates</th>\n",
              "      <th>PageValues</th>\n",
              "      <th>SpecialDay</th>\n",
              "      <th>Month</th>\n",
              "      <th>OperatingSystems</th>\n",
              "      <th>Browser</th>\n",
              "      <th>Region</th>\n",
              "      <th>TrafficType</th>\n",
              "      <th>VisitorType</th>\n",
              "      <th>Weekend</th>\n",
              "      <th>Revenue</th>\n",
              "    </tr>\n",
              "  </thead>\n",
              "  <tbody>\n",
              "    <tr>\n",
              "      <th>count</th>\n",
              "      <td>12330.000000</td>\n",
              "      <td>12330.000000</td>\n",
              "      <td>12330.000000</td>\n",
              "      <td>12330.000000</td>\n",
              "      <td>12330.000000</td>\n",
              "      <td>12330.000000</td>\n",
              "      <td>12330.000000</td>\n",
              "      <td>12330.000000</td>\n",
              "      <td>12330.000000</td>\n",
              "      <td>12330.000000</td>\n",
              "      <td>12330</td>\n",
              "      <td>12330.000000</td>\n",
              "      <td>12330.000000</td>\n",
              "      <td>12330.000000</td>\n",
              "      <td>12330.000000</td>\n",
              "      <td>12330</td>\n",
              "      <td>12330</td>\n",
              "      <td>12330</td>\n",
              "    </tr>\n",
              "    <tr>\n",
              "      <th>unique</th>\n",
              "      <td>NaN</td>\n",
              "      <td>NaN</td>\n",
              "      <td>NaN</td>\n",
              "      <td>NaN</td>\n",
              "      <td>NaN</td>\n",
              "      <td>NaN</td>\n",
              "      <td>NaN</td>\n",
              "      <td>NaN</td>\n",
              "      <td>NaN</td>\n",
              "      <td>NaN</td>\n",
              "      <td>10</td>\n",
              "      <td>NaN</td>\n",
              "      <td>NaN</td>\n",
              "      <td>NaN</td>\n",
              "      <td>NaN</td>\n",
              "      <td>3</td>\n",
              "      <td>2</td>\n",
              "      <td>2</td>\n",
              "    </tr>\n",
              "    <tr>\n",
              "      <th>top</th>\n",
              "      <td>NaN</td>\n",
              "      <td>NaN</td>\n",
              "      <td>NaN</td>\n",
              "      <td>NaN</td>\n",
              "      <td>NaN</td>\n",
              "      <td>NaN</td>\n",
              "      <td>NaN</td>\n",
              "      <td>NaN</td>\n",
              "      <td>NaN</td>\n",
              "      <td>NaN</td>\n",
              "      <td>May</td>\n",
              "      <td>NaN</td>\n",
              "      <td>NaN</td>\n",
              "      <td>NaN</td>\n",
              "      <td>NaN</td>\n",
              "      <td>Returning_Visitor</td>\n",
              "      <td>False</td>\n",
              "      <td>False</td>\n",
              "    </tr>\n",
              "    <tr>\n",
              "      <th>freq</th>\n",
              "      <td>NaN</td>\n",
              "      <td>NaN</td>\n",
              "      <td>NaN</td>\n",
              "      <td>NaN</td>\n",
              "      <td>NaN</td>\n",
              "      <td>NaN</td>\n",
              "      <td>NaN</td>\n",
              "      <td>NaN</td>\n",
              "      <td>NaN</td>\n",
              "      <td>NaN</td>\n",
              "      <td>3364</td>\n",
              "      <td>NaN</td>\n",
              "      <td>NaN</td>\n",
              "      <td>NaN</td>\n",
              "      <td>NaN</td>\n",
              "      <td>10551</td>\n",
              "      <td>9462</td>\n",
              "      <td>10422</td>\n",
              "    </tr>\n",
              "    <tr>\n",
              "      <th>mean</th>\n",
              "      <td>2.315166</td>\n",
              "      <td>80.818611</td>\n",
              "      <td>0.503569</td>\n",
              "      <td>34.472398</td>\n",
              "      <td>31.731468</td>\n",
              "      <td>1194.746220</td>\n",
              "      <td>0.022191</td>\n",
              "      <td>0.043073</td>\n",
              "      <td>5.889258</td>\n",
              "      <td>0.061427</td>\n",
              "      <td>NaN</td>\n",
              "      <td>2.124006</td>\n",
              "      <td>2.357097</td>\n",
              "      <td>3.147364</td>\n",
              "      <td>4.069586</td>\n",
              "      <td>NaN</td>\n",
              "      <td>NaN</td>\n",
              "      <td>NaN</td>\n",
              "    </tr>\n",
              "    <tr>\n",
              "      <th>std</th>\n",
              "      <td>3.321784</td>\n",
              "      <td>176.779107</td>\n",
              "      <td>1.270156</td>\n",
              "      <td>140.749294</td>\n",
              "      <td>44.475503</td>\n",
              "      <td>1913.669288</td>\n",
              "      <td>0.048488</td>\n",
              "      <td>0.048597</td>\n",
              "      <td>18.568437</td>\n",
              "      <td>0.198917</td>\n",
              "      <td>NaN</td>\n",
              "      <td>0.911325</td>\n",
              "      <td>1.717277</td>\n",
              "      <td>2.401591</td>\n",
              "      <td>4.025169</td>\n",
              "      <td>NaN</td>\n",
              "      <td>NaN</td>\n",
              "      <td>NaN</td>\n",
              "    </tr>\n",
              "    <tr>\n",
              "      <th>min</th>\n",
              "      <td>0.000000</td>\n",
              "      <td>0.000000</td>\n",
              "      <td>0.000000</td>\n",
              "      <td>0.000000</td>\n",
              "      <td>0.000000</td>\n",
              "      <td>0.000000</td>\n",
              "      <td>0.000000</td>\n",
              "      <td>0.000000</td>\n",
              "      <td>0.000000</td>\n",
              "      <td>0.000000</td>\n",
              "      <td>NaN</td>\n",
              "      <td>1.000000</td>\n",
              "      <td>1.000000</td>\n",
              "      <td>1.000000</td>\n",
              "      <td>1.000000</td>\n",
              "      <td>NaN</td>\n",
              "      <td>NaN</td>\n",
              "      <td>NaN</td>\n",
              "    </tr>\n",
              "    <tr>\n",
              "      <th>25%</th>\n",
              "      <td>0.000000</td>\n",
              "      <td>0.000000</td>\n",
              "      <td>0.000000</td>\n",
              "      <td>0.000000</td>\n",
              "      <td>7.000000</td>\n",
              "      <td>184.137500</td>\n",
              "      <td>0.000000</td>\n",
              "      <td>0.014286</td>\n",
              "      <td>0.000000</td>\n",
              "      <td>0.000000</td>\n",
              "      <td>NaN</td>\n",
              "      <td>2.000000</td>\n",
              "      <td>2.000000</td>\n",
              "      <td>1.000000</td>\n",
              "      <td>2.000000</td>\n",
              "      <td>NaN</td>\n",
              "      <td>NaN</td>\n",
              "      <td>NaN</td>\n",
              "    </tr>\n",
              "    <tr>\n",
              "      <th>50%</th>\n",
              "      <td>1.000000</td>\n",
              "      <td>7.500000</td>\n",
              "      <td>0.000000</td>\n",
              "      <td>0.000000</td>\n",
              "      <td>18.000000</td>\n",
              "      <td>598.936905</td>\n",
              "      <td>0.003112</td>\n",
              "      <td>0.025156</td>\n",
              "      <td>0.000000</td>\n",
              "      <td>0.000000</td>\n",
              "      <td>NaN</td>\n",
              "      <td>2.000000</td>\n",
              "      <td>2.000000</td>\n",
              "      <td>3.000000</td>\n",
              "      <td>2.000000</td>\n",
              "      <td>NaN</td>\n",
              "      <td>NaN</td>\n",
              "      <td>NaN</td>\n",
              "    </tr>\n",
              "    <tr>\n",
              "      <th>75%</th>\n",
              "      <td>4.000000</td>\n",
              "      <td>93.256250</td>\n",
              "      <td>0.000000</td>\n",
              "      <td>0.000000</td>\n",
              "      <td>38.000000</td>\n",
              "      <td>1464.157214</td>\n",
              "      <td>0.016813</td>\n",
              "      <td>0.050000</td>\n",
              "      <td>0.000000</td>\n",
              "      <td>0.000000</td>\n",
              "      <td>NaN</td>\n",
              "      <td>3.000000</td>\n",
              "      <td>2.000000</td>\n",
              "      <td>4.000000</td>\n",
              "      <td>4.000000</td>\n",
              "      <td>NaN</td>\n",
              "      <td>NaN</td>\n",
              "      <td>NaN</td>\n",
              "    </tr>\n",
              "    <tr>\n",
              "      <th>max</th>\n",
              "      <td>27.000000</td>\n",
              "      <td>3398.750000</td>\n",
              "      <td>24.000000</td>\n",
              "      <td>2549.375000</td>\n",
              "      <td>705.000000</td>\n",
              "      <td>63973.522230</td>\n",
              "      <td>0.200000</td>\n",
              "      <td>0.200000</td>\n",
              "      <td>361.763742</td>\n",
              "      <td>1.000000</td>\n",
              "      <td>NaN</td>\n",
              "      <td>8.000000</td>\n",
              "      <td>13.000000</td>\n",
              "      <td>9.000000</td>\n",
              "      <td>20.000000</td>\n",
              "      <td>NaN</td>\n",
              "      <td>NaN</td>\n",
              "      <td>NaN</td>\n",
              "    </tr>\n",
              "  </tbody>\n",
              "</table>\n",
              "</div>\n",
              "      <button class=\"colab-df-convert\" onclick=\"convertToInteractive('df-383a74bd-ef2b-4c6d-a7dd-a595009810b3')\"\n",
              "              title=\"Convert this dataframe to an interactive table.\"\n",
              "              style=\"display:none;\">\n",
              "        \n",
              "  <svg xmlns=\"http://www.w3.org/2000/svg\" height=\"24px\"viewBox=\"0 0 24 24\"\n",
              "       width=\"24px\">\n",
              "    <path d=\"M0 0h24v24H0V0z\" fill=\"none\"/>\n",
              "    <path d=\"M18.56 5.44l.94 2.06.94-2.06 2.06-.94-2.06-.94-.94-2.06-.94 2.06-2.06.94zm-11 1L8.5 8.5l.94-2.06 2.06-.94-2.06-.94L8.5 2.5l-.94 2.06-2.06.94zm10 10l.94 2.06.94-2.06 2.06-.94-2.06-.94-.94-2.06-.94 2.06-2.06.94z\"/><path d=\"M17.41 7.96l-1.37-1.37c-.4-.4-.92-.59-1.43-.59-.52 0-1.04.2-1.43.59L10.3 9.45l-7.72 7.72c-.78.78-.78 2.05 0 2.83L4 21.41c.39.39.9.59 1.41.59.51 0 1.02-.2 1.41-.59l7.78-7.78 2.81-2.81c.8-.78.8-2.07 0-2.86zM5.41 20L4 18.59l7.72-7.72 1.47 1.35L5.41 20z\"/>\n",
              "  </svg>\n",
              "      </button>\n",
              "      \n",
              "  <style>\n",
              "    .colab-df-container {\n",
              "      display:flex;\n",
              "      flex-wrap:wrap;\n",
              "      gap: 12px;\n",
              "    }\n",
              "\n",
              "    .colab-df-convert {\n",
              "      background-color: #E8F0FE;\n",
              "      border: none;\n",
              "      border-radius: 50%;\n",
              "      cursor: pointer;\n",
              "      display: none;\n",
              "      fill: #1967D2;\n",
              "      height: 32px;\n",
              "      padding: 0 0 0 0;\n",
              "      width: 32px;\n",
              "    }\n",
              "\n",
              "    .colab-df-convert:hover {\n",
              "      background-color: #E2EBFA;\n",
              "      box-shadow: 0px 1px 2px rgba(60, 64, 67, 0.3), 0px 1px 3px 1px rgba(60, 64, 67, 0.15);\n",
              "      fill: #174EA6;\n",
              "    }\n",
              "\n",
              "    [theme=dark] .colab-df-convert {\n",
              "      background-color: #3B4455;\n",
              "      fill: #D2E3FC;\n",
              "    }\n",
              "\n",
              "    [theme=dark] .colab-df-convert:hover {\n",
              "      background-color: #434B5C;\n",
              "      box-shadow: 0px 1px 3px 1px rgba(0, 0, 0, 0.15);\n",
              "      filter: drop-shadow(0px 1px 2px rgba(0, 0, 0, 0.3));\n",
              "      fill: #FFFFFF;\n",
              "    }\n",
              "  </style>\n",
              "\n",
              "      <script>\n",
              "        const buttonEl =\n",
              "          document.querySelector('#df-383a74bd-ef2b-4c6d-a7dd-a595009810b3 button.colab-df-convert');\n",
              "        buttonEl.style.display =\n",
              "          google.colab.kernel.accessAllowed ? 'block' : 'none';\n",
              "\n",
              "        async function convertToInteractive(key) {\n",
              "          const element = document.querySelector('#df-383a74bd-ef2b-4c6d-a7dd-a595009810b3');\n",
              "          const dataTable =\n",
              "            await google.colab.kernel.invokeFunction('convertToInteractive',\n",
              "                                                     [key], {});\n",
              "          if (!dataTable) return;\n",
              "\n",
              "          const docLinkHtml = 'Like what you see? Visit the ' +\n",
              "            '<a target=\"_blank\" href=https://colab.research.google.com/notebooks/data_table.ipynb>data table notebook</a>'\n",
              "            + ' to learn more about interactive tables.';\n",
              "          element.innerHTML = '';\n",
              "          dataTable['output_type'] = 'display_data';\n",
              "          await google.colab.output.renderOutput(dataTable, element);\n",
              "          const docLink = document.createElement('div');\n",
              "          docLink.innerHTML = docLinkHtml;\n",
              "          element.appendChild(docLink);\n",
              "        }\n",
              "      </script>\n",
              "    </div>\n",
              "  </div>\n",
              "  "
            ]
          },
          "metadata": {},
          "execution_count": 75
        }
      ]
    },
    {
      "cell_type": "markdown",
      "source": [
        "*   only 4 attributes are not numerical types. We may need to convert them to numerical before the modelling.\n",
        "\n"
      ],
      "metadata": {
        "id": "HFlxtkx376Ul"
      }
    },
    {
      "cell_type": "markdown",
      "source": [
        "**Looking at number of unique values in each attribute. This is particularly useful information for categorical variables**"
      ],
      "metadata": {
        "id": "vKAyqktu6cLl"
      }
    },
    {
      "cell_type": "code",
      "source": [
        "df_original.nunique()"
      ],
      "metadata": {
        "colab": {
          "base_uri": "https://localhost:8080/"
        },
        "id": "S896ZC_D6myd",
        "outputId": "a6457ed3-b554-42de-feaa-978133a31d32"
      },
      "execution_count": 76,
      "outputs": [
        {
          "output_type": "execute_result",
          "data": {
            "text/plain": [
              "Administrative               27\n",
              "Administrative_Duration    3335\n",
              "Informational                17\n",
              "Informational_Duration     1258\n",
              "ProductRelated              311\n",
              "ProductRelated_Duration    9551\n",
              "BounceRates                1872\n",
              "ExitRates                  4777\n",
              "PageValues                 2704\n",
              "SpecialDay                    6\n",
              "Month                        10\n",
              "OperatingSystems              8\n",
              "Browser                      13\n",
              "Region                        9\n",
              "TrafficType                  20\n",
              "VisitorType                   3\n",
              "Weekend                       2\n",
              "Revenue                       2\n",
              "dtype: int64"
            ]
          },
          "metadata": {},
          "execution_count": 76
        }
      ]
    },
    {
      "cell_type": "markdown",
      "source": [
        "*   As per definistions of the attributes, the last 8 attributes are categorical."
      ],
      "metadata": {
        "id": "2iT-Dxg68XC_"
      }
    },
    {
      "cell_type": "markdown",
      "source": [
        "-------------------------------------\n",
        "# **EDA for Categorical Variables** \n",
        "-------------------------------------"
      ],
      "metadata": {
        "id": "ibuteUJS_xkX"
      }
    },
    {
      "cell_type": "markdown",
      "source": [
        "**Checking the Label Class (Dependent variable): \"Revenue\"**"
      ],
      "metadata": {
        "id": "VtRysayjHDbw"
      }
    },
    {
      "cell_type": "code",
      "source": [
        "df_original.Revenue.value_counts()"
      ],
      "metadata": {
        "colab": {
          "base_uri": "https://localhost:8080/"
        },
        "id": "8vByMuKpHQAE",
        "outputId": "effba2d1-2072-4bb7-a3da-640ffb75fb08"
      },
      "execution_count": 77,
      "outputs": [
        {
          "output_type": "execute_result",
          "data": {
            "text/plain": [
              "False    10422\n",
              "True      1908\n",
              "Name: Revenue, dtype: int64"
            ]
          },
          "metadata": {},
          "execution_count": 77
        }
      ]
    },
    {
      "cell_type": "markdown",
      "source": [
        "*   As we can see only 1908 sessions resulted in purchase and 10422 sessions did not.\n",
        "\n",
        "**Visualizing \"Revenue\" column with percentage of each class: True/False.** "
      ],
      "metadata": {
        "id": "okg9O0s3He9l"
      }
    },
    {
      "cell_type": "code",
      "source": [
        "import matplotlib.pyplot as plt\n",
        "\n",
        "#calculating the Ture and False Percentage in \"Revenue\" column\n",
        "F_percentage= round((10422/len(df_original[\"Revenue\"])*100),2)\n",
        "T_percentage= round((1908/len(df_original[\"Revenue\"]))*100,2)\n",
        "\n",
        "#creating a dictionary from the Ture and False Percentage in \"Revenue\" column\n",
        "Revenue_Class = {\"False\": F_percentage, \"True\":T_percentage}\n",
        "\n",
        "#Defining X & Y for the chart\n",
        "x= list(Revenue_Class.keys())\n",
        "y= list(Revenue_Class.values())\n",
        "fig = plt.figure()\n",
        "\n",
        "#Defining the chart type and color \n",
        "p1=plt.bar(x, y, color ='Green')\n",
        "\n",
        "#Setting the chart and axis labels\n",
        "plt.xlabel(\"Revenue Class\")\n",
        "plt.ylabel(\"Percentage (%)\")\n",
        "plt.title(\"Percentage of each Revenue Class\")\n",
        "\n",
        "#Adding the data lebels on top of each bar\n",
        "for p in p1:\n",
        "   height = p.get_height()\n",
        "   plt.text(x=p.get_x() + p.get_width() / 2, y=height+.10,\n",
        "      s=\"{}%\".format(height),\n",
        "      ha='center')\n",
        "#Printing the chart   \n",
        "plt.show()\n"
      ],
      "metadata": {
        "colab": {
          "base_uri": "https://localhost:8080/",
          "height": 301
        },
        "id": "sZ7dcjG7H3S2",
        "outputId": "9420fa97-03e7-4500-a400-268fbc966c81"
      },
      "execution_count": 78,
      "outputs": [
        {
          "output_type": "display_data",
          "data": {
            "text/plain": [
              "<Figure size 432x288 with 1 Axes>"
            ],
            "image/png": "[encoded data removed]"
          },
          "metadata": {}
        }
      ]
    },
    {
      "cell_type": "markdown",
      "source": [
        "*   The data is clealy imbalanced."
      ],
      "metadata": {
        "id": "u1CohXzYpX8_"
      }
    },
    {
      "cell_type": "markdown",
      "source": [
        "**Checking the categories in \"Weekend\" attribute**"
      ],
      "metadata": {
        "id": "Z-aryKvdDeXY"
      }
    },
    {
      "cell_type": "code",
      "source": [
        "df_wk =DataFrame (df_original.Weekend.value_counts())\n",
        "df_wk"
      ],
      "metadata": {
        "colab": {
          "base_uri": "https://localhost:8080/",
          "height": 112
        },
        "id": "RzXXARGfDifD",
        "outputId": "6354b53f-d001-485e-935e-74e440cf14c7"
      },
      "execution_count": 79,
      "outputs": [
        {
          "output_type": "execute_result",
          "data": {
            "text/plain": [
              "       Weekend\n",
              "False     9462\n",
              "True      2868"
            ],
            "text/html": [
              "\n",
              "  <div id=\"df-a57c00d2-a3b9-4a66-be46-8b96b6834985\">\n",
              "    <div class=\"colab-df-container\">\n",
              "      <div>\n",
              "<style scoped>\n",
              "    .dataframe tbody tr th:only-of-type {\n",
              "        vertical-align: middle;\n",
              "    }\n",
              "\n",
              "    .dataframe tbody tr th {\n",
              "        vertical-align: top;\n",
              "    }\n",
              "\n",
              "    .dataframe thead th {\n",
              "        text-align: right;\n",
              "    }\n",
              "</style>\n",
              "<table border=\"1\" class=\"dataframe\">\n",
              "  <thead>\n",
              "    <tr style=\"text-align: right;\">\n",
              "      <th></th>\n",
              "      <th>Weekend</th>\n",
              "    </tr>\n",
              "  </thead>\n",
              "  <tbody>\n",
              "    <tr>\n",
              "      <th>False</th>\n",
              "      <td>9462</td>\n",
              "    </tr>\n",
              "    <tr>\n",
              "      <th>True</th>\n",
              "      <td>2868</td>\n",
              "    </tr>\n",
              "  </tbody>\n",
              "</table>\n",
              "</div>\n",
              "      <button class=\"colab-df-convert\" onclick=\"convertToInteractive('df-a57c00d2-a3b9-4a66-be46-8b96b6834985')\"\n",
              "              title=\"Convert this dataframe to an interactive table.\"\n",
              "              style=\"display:none;\">\n",
              "        \n",
              "  <svg xmlns=\"http://www.w3.org/2000/svg\" height=\"24px\"viewBox=\"0 0 24 24\"\n",
              "       width=\"24px\">\n",
              "    <path d=\"M0 0h24v24H0V0z\" fill=\"none\"/>\n",
              "    <path d=\"M18.56 5.44l.94 2.06.94-2.06 2.06-.94-2.06-.94-.94-2.06-.94 2.06-2.06.94zm-11 1L8.5 8.5l.94-2.06 2.06-.94-2.06-.94L8.5 2.5l-.94 2.06-2.06.94zm10 10l.94 2.06.94-2.06 2.06-.94-2.06-.94-.94-2.06-.94 2.06-2.06.94z\"/><path d=\"M17.41 7.96l-1.37-1.37c-.4-.4-.92-.59-1.43-.59-.52 0-1.04.2-1.43.59L10.3 9.45l-7.72 7.72c-.78.78-.78 2.05 0 2.83L4 21.41c.39.39.9.59 1.41.59.51 0 1.02-.2 1.41-.59l7.78-7.78 2.81-2.81c.8-.78.8-2.07 0-2.86zM5.41 20L4 18.59l7.72-7.72 1.47 1.35L5.41 20z\"/>\n",
              "  </svg>\n",
              "      </button>\n",
              "      \n",
              "  <style>\n",
              "    .colab-df-container {\n",
              "      display:flex;\n",
              "      flex-wrap:wrap;\n",
              "      gap: 12px;\n",
              "    }\n",
              "\n",
              "    .colab-df-convert {\n",
              "      background-color: #E8F0FE;\n",
              "      border: none;\n",
              "      border-radius: 50%;\n",
              "      cursor: pointer;\n",
              "      display: none;\n",
              "      fill: #1967D2;\n",
              "      height: 32px;\n",
              "      padding: 0 0 0 0;\n",
              "      width: 32px;\n",
              "    }\n",
              "\n",
              "    .colab-df-convert:hover {\n",
              "      background-color: #E2EBFA;\n",
              "      box-shadow: 0px 1px 2px rgba(60, 64, 67, 0.3), 0px 1px 3px 1px rgba(60, 64, 67, 0.15);\n",
              "      fill: #174EA6;\n",
              "    }\n",
              "\n",
              "    [theme=dark] .colab-df-convert {\n",
              "      background-color: #3B4455;\n",
              "      fill: #D2E3FC;\n",
              "    }\n",
              "\n",
              "    [theme=dark] .colab-df-convert:hover {\n",
              "      background-color: #434B5C;\n",
              "      box-shadow: 0px 1px 3px 1px rgba(0, 0, 0, 0.15);\n",
              "      filter: drop-shadow(0px 1px 2px rgba(0, 0, 0, 0.3));\n",
              "      fill: #FFFFFF;\n",
              "    }\n",
              "  </style>\n",
              "\n",
              "      <script>\n",
              "        const buttonEl =\n",
              "          document.querySelector('#df-a57c00d2-a3b9-4a66-be46-8b96b6834985 button.colab-df-convert');\n",
              "        buttonEl.style.display =\n",
              "          google.colab.kernel.accessAllowed ? 'block' : 'none';\n",
              "\n",
              "        async function convertToInteractive(key) {\n",
              "          const element = document.querySelector('#df-a57c00d2-a3b9-4a66-be46-8b96b6834985');\n",
              "          const dataTable =\n",
              "            await google.colab.kernel.invokeFunction('convertToInteractive',\n",
              "                                                     [key], {});\n",
              "          if (!dataTable) return;\n",
              "\n",
              "          const docLinkHtml = 'Like what you see? Visit the ' +\n",
              "            '<a target=\"_blank\" href=https://colab.research.google.com/notebooks/data_table.ipynb>data table notebook</a>'\n",
              "            + ' to learn more about interactive tables.';\n",
              "          element.innerHTML = '';\n",
              "          dataTable['output_type'] = 'display_data';\n",
              "          await google.colab.output.renderOutput(dataTable, element);\n",
              "          const docLink = document.createElement('div');\n",
              "          docLink.innerHTML = docLinkHtml;\n",
              "          element.appendChild(docLink);\n",
              "        }\n",
              "      </script>\n",
              "    </div>\n",
              "  </div>\n",
              "  "
            ]
          },
          "metadata": {},
          "execution_count": 79
        }
      ]
    },
    {
      "cell_type": "markdown",
      "source": [
        "*   The weekday have higher total number of visits as there are 5 days that are considered a weekday, and only 2 days on a weekend. To explore this attribute further we must look into the avergae number of visits per day of the week:"
      ],
      "metadata": {
        "id": "zZi43uKZDrM-"
      }
    },
    {
      "cell_type": "code",
      "source": [
        "#calculating the average per day of the week\n",
        "Weekday_Avg = df_wk[\"Weekend\"][0]/5\n",
        "Weekend_Avg = df_wk[\"Weekend\"][1]/2\n",
        "\n",
        "#creating a dataframe for ease of readibility \n",
        "DataFrame([Weekday_Avg, Weekend_Avg],[\"Weekday_Avg\", \"Weekend_Avg\"])"
      ],
      "metadata": {
        "colab": {
          "base_uri": "https://localhost:8080/",
          "height": 112
        },
        "id": "2vYmMVvsEl8h",
        "outputId": "e3666718-6518-443c-b799-fcbc4df48a24"
      },
      "execution_count": 80,
      "outputs": [
        {
          "output_type": "execute_result",
          "data": {
            "text/plain": [
              "                  0\n",
              "Weekday_Avg  1892.4\n",
              "Weekend_Avg  1434.0"
            ],
            "text/html": [
              "\n",
              "  <div id=\"df-1e6fbe08-b8cb-4398-b660-d5ff4fae0954\">\n",
              "    <div class=\"colab-df-container\">\n",
              "      <div>\n",
              "<style scoped>\n",
              "    .dataframe tbody tr th:only-of-type {\n",
              "        vertical-align: middle;\n",
              "    }\n",
              "\n",
              "    .dataframe tbody tr th {\n",
              "        vertical-align: top;\n",
              "    }\n",
              "\n",
              "    .dataframe thead th {\n",
              "        text-align: right;\n",
              "    }\n",
              "</style>\n",
              "<table border=\"1\" class=\"dataframe\">\n",
              "  <thead>\n",
              "    <tr style=\"text-align: right;\">\n",
              "      <th></th>\n",
              "      <th>0</th>\n",
              "    </tr>\n",
              "  </thead>\n",
              "  <tbody>\n",
              "    <tr>\n",
              "      <th>Weekday_Avg</th>\n",
              "      <td>1892.4</td>\n",
              "    </tr>\n",
              "    <tr>\n",
              "      <th>Weekend_Avg</th>\n",
              "      <td>1434.0</td>\n",
              "    </tr>\n",
              "  </tbody>\n",
              "</table>\n",
              "</div>\n",
              "      <button class=\"colab-df-convert\" onclick=\"convertToInteractive('df-1e6fbe08-b8cb-4398-b660-d5ff4fae0954')\"\n",
              "              title=\"Convert this dataframe to an interactive table.\"\n",
              "              style=\"display:none;\">\n",
              "        \n",
              "  <svg xmlns=\"http://www.w3.org/2000/svg\" height=\"24px\"viewBox=\"0 0 24 24\"\n",
              "       width=\"24px\">\n",
              "    <path d=\"M0 0h24v24H0V0z\" fill=\"none\"/>\n",
              "    <path d=\"M18.56 5.44l.94 2.06.94-2.06 2.06-.94-2.06-.94-.94-2.06-.94 2.06-2.06.94zm-11 1L8.5 8.5l.94-2.06 2.06-.94-2.06-.94L8.5 2.5l-.94 2.06-2.06.94zm10 10l.94 2.06.94-2.06 2.06-.94-2.06-.94-.94-2.06-.94 2.06-2.06.94z\"/><path d=\"M17.41 7.96l-1.37-1.37c-.4-.4-.92-.59-1.43-.59-.52 0-1.04.2-1.43.59L10.3 9.45l-7.72 7.72c-.78.78-.78 2.05 0 2.83L4 21.41c.39.39.9.59 1.41.59.51 0 1.02-.2 1.41-.59l7.78-7.78 2.81-2.81c.8-.78.8-2.07 0-2.86zM5.41 20L4 18.59l7.72-7.72 1.47 1.35L5.41 20z\"/>\n",
              "  </svg>\n",
              "      </button>\n",
              "      \n",
              "  <style>\n",
              "    .colab-df-container {\n",
              "      display:flex;\n",
              "      flex-wrap:wrap;\n",
              "      gap: 12px;\n",
              "    }\n",
              "\n",
              "    .colab-df-convert {\n",
              "      background-color: #E8F0FE;\n",
              "      border: none;\n",
              "      border-radius: 50%;\n",
              "      cursor: pointer;\n",
              "      display: none;\n",
              "      fill: #1967D2;\n",
              "      height: 32px;\n",
              "      padding: 0 0 0 0;\n",
              "      width: 32px;\n",
              "    }\n",
              "\n",
              "    .colab-df-convert:hover {\n",
              "      background-color: #E2EBFA;\n",
              "      box-shadow: 0px 1px 2px rgba(60, 64, 67, 0.3), 0px 1px 3px 1px rgba(60, 64, 67, 0.15);\n",
              "      fill: #174EA6;\n",
              "    }\n",
              "\n",
              "    [theme=dark] .colab-df-convert {\n",
              "      background-color: #3B4455;\n",
              "      fill: #D2E3FC;\n",
              "    }\n",
              "\n",
              "    [theme=dark] .colab-df-convert:hover {\n",
              "      background-color: #434B5C;\n",
              "      box-shadow: 0px 1px 3px 1px rgba(0, 0, 0, 0.15);\n",
              "      filter: drop-shadow(0px 1px 2px rgba(0, 0, 0, 0.3));\n",
              "      fill: #FFFFFF;\n",
              "    }\n",
              "  </style>\n",
              "\n",
              "      <script>\n",
              "        const buttonEl =\n",
              "          document.querySelector('#df-1e6fbe08-b8cb-4398-b660-d5ff4fae0954 button.colab-df-convert');\n",
              "        buttonEl.style.display =\n",
              "          google.colab.kernel.accessAllowed ? 'block' : 'none';\n",
              "\n",
              "        async function convertToInteractive(key) {\n",
              "          const element = document.querySelector('#df-1e6fbe08-b8cb-4398-b660-d5ff4fae0954');\n",
              "          const dataTable =\n",
              "            await google.colab.kernel.invokeFunction('convertToInteractive',\n",
              "                                                     [key], {});\n",
              "          if (!dataTable) return;\n",
              "\n",
              "          const docLinkHtml = 'Like what you see? Visit the ' +\n",
              "            '<a target=\"_blank\" href=https://colab.research.google.com/notebooks/data_table.ipynb>data table notebook</a>'\n",
              "            + ' to learn more about interactive tables.';\n",
              "          element.innerHTML = '';\n",
              "          dataTable['output_type'] = 'display_data';\n",
              "          await google.colab.output.renderOutput(dataTable, element);\n",
              "          const docLink = document.createElement('div');\n",
              "          docLink.innerHTML = docLinkHtml;\n",
              "          element.appendChild(docLink);\n",
              "        }\n",
              "      </script>\n",
              "    </div>\n",
              "  </div>\n",
              "  "
            ]
          },
          "metadata": {},
          "execution_count": 80
        }
      ]
    },
    {
      "cell_type": "markdown",
      "source": [
        "*   Surprisingly the average number of visits on a weekday is higher than a weekend day!!!"
      ],
      "metadata": {
        "id": "3QyjaVkfKmBI"
      }
    },
    {
      "cell_type": "markdown",
      "source": [
        "**Checking the categories in \"VisitorType\" attribute**"
      ],
      "metadata": {
        "id": "qdYqTs-w7Ewv"
      }
    },
    {
      "cell_type": "code",
      "source": [
        "df_original.VisitorType.value_counts()"
      ],
      "metadata": {
        "colab": {
          "base_uri": "https://localhost:8080/"
        },
        "id": "L3Bg1kTbwZ4w",
        "outputId": "521ddec3-a872-43d2-e19d-19d4f5672c2a"
      },
      "execution_count": 81,
      "outputs": [
        {
          "output_type": "execute_result",
          "data": {
            "text/plain": [
              "Returning_Visitor    10551\n",
              "New_Visitor           1694\n",
              "Other                   85\n",
              "Name: VisitorType, dtype: int64"
            ]
          },
          "metadata": {},
          "execution_count": 81
        }
      ]
    },
    {
      "cell_type": "markdown",
      "source": [
        "**Visualizing \"VisitorType\" Categories**"
      ],
      "metadata": {
        "id": "7kdZcJd-83cL"
      }
    },
    {
      "cell_type": "code",
      "source": [
        "from enum import unique\n",
        "\n",
        "#creating the data for the chart\n",
        "p3=DataFrame (df_original.VisitorType.value_counts())\n",
        "x= p3[\"VisitorType\"]\n",
        "\n",
        "#creating the labels for the chart\n",
        "label= df_original.VisitorType.unique()\n",
        "\n",
        "#selecting the colors\n",
        "color_list=[\"pink\", \"palevioletred\", \"mediumvioletred\"]\n",
        "\n",
        "#setting the chart title\n",
        "plt.title(\"Percentage of each Visitor Type\", pad=30, fontsize=16, color=\"purple\") \n",
        "\n",
        "#creating the chart\n",
        "plt.pie(x, labels= label, colors= color_list, shadow=True, \n",
        "        rotatelabels=True, autopct='%1.1f%%', pctdistance= 0.82,\n",
        "        radius= 1.2 );\n"
      ],
      "metadata": {
        "id": "f0erHaK09ZS3",
        "colab": {
          "base_uri": "https://localhost:8080/",
          "height": 290
        },
        "outputId": "a858861d-0d35-4491-891a-cc1c8ba4f74e"
      },
      "execution_count": 82,
      "outputs": [
        {
          "output_type": "display_data",
          "data": {
            "text/plain": [
              "<Figure size 432x288 with 1 Axes>"
            ],
            "image/png": "[encoded data removed]"
          },
          "metadata": {}
        }
      ]
    },
    {
      "cell_type": "markdown",
      "source": [
        "* The majority of the visitors are a \"returning_Visitor\" which is a positive note for the company. "
      ],
      "metadata": {
        "id": "jqhxVa78CiF6"
      }
    },
    {
      "cell_type": "markdown",
      "source": [
        "**Checking the \"TrafficType\" categories**"
      ],
      "metadata": {
        "id": "V39bS8rKC6xI"
      }
    },
    {
      "cell_type": "code",
      "source": [
        "df_original.TrafficType.value_counts()"
      ],
      "metadata": {
        "colab": {
          "base_uri": "https://localhost:8080/"
        },
        "id": "AUyGdfOhMr2b",
        "outputId": "34fda55a-3087-49d9-dc91-d2dcc116d7cb"
      },
      "execution_count": 85,
      "outputs": [
        {
          "output_type": "execute_result",
          "data": {
            "text/plain": [
              "2     3913\n",
              "1     2451\n",
              "3     2052\n",
              "4     1069\n",
              "13     738\n",
              "10     450\n",
              "6      444\n",
              "8      343\n",
              "5      260\n",
              "11     247\n",
              "20     198\n",
              "9       42\n",
              "7       40\n",
              "15      38\n",
              "19      17\n",
              "14      13\n",
              "18      10\n",
              "16       3\n",
              "12       1\n",
              "17       1\n",
              "Name: TrafficType, dtype: int64"
            ]
          },
          "metadata": {},
          "execution_count": 85
        }
      ]
    },
    {
      "cell_type": "markdown",
      "source": [
        "**Visualizing the \"TrafficType\" categories**"
      ],
      "metadata": {
        "id": "7OG3jZSxRFyI"
      }
    },
    {
      "cell_type": "code",
      "source": [
        "#creating the chart and customizing the color\n",
        "df_original.TrafficType.value_counts().plot(kind=\"bar\", color=\"r\")\n",
        "\n",
        "#setting the chart and axis labels\n",
        "plt.xlabel(\"Traffic Type\", fontsize=12)\n",
        "plt.ylabel(\"Count of sessions\", fontsize=12)\n",
        "plt.title(\"Count of each Traffic Type\", fontsize=14);"
      ],
      "metadata": {
        "colab": {
          "base_uri": "https://localhost:8080/",
          "height": 306
        },
        "id": "qor35C25RRO1",
        "outputId": "c85d113d-e0d0-4ba7-980c-c6647f725bbe"
      },
      "execution_count": 86,
      "outputs": [
        {
          "output_type": "display_data",
          "data": {
            "text/plain": [
              "<Figure size 432x288 with 1 Axes>"
            ],
            "image/png": "[encoded data removed]"
          },
          "metadata": {}
        }
      ]
    },
    {
      "cell_type": "markdown",
      "source": [
        "**Checking the categories of \"Region\"**"
      ],
      "metadata": {
        "id": "zqYYwQ-ThKFK"
      }
    },
    {
      "cell_type": "code",
      "source": [
        "df_original.Region.value_counts()"
      ],
      "metadata": {
        "colab": {
          "base_uri": "https://localhost:8080/"
        },
        "id": "4oG51oDdhXqP",
        "outputId": "b57fae1b-e8c4-408b-8310-5a954c9fdde6"
      },
      "execution_count": 87,
      "outputs": [
        {
          "output_type": "execute_result",
          "data": {
            "text/plain": [
              "1    4780\n",
              "3    2403\n",
              "4    1182\n",
              "2    1136\n",
              "6     805\n",
              "7     761\n",
              "9     511\n",
              "8     434\n",
              "5     318\n",
              "Name: Region, dtype: int64"
            ]
          },
          "metadata": {},
          "execution_count": 87
        }
      ]
    },
    {
      "cell_type": "markdown",
      "source": [
        "**Visulaizing the categories of \"Region\"**"
      ],
      "metadata": {
        "id": "c7YsR5WehpnP"
      }
    },
    {
      "cell_type": "code",
      "source": [
        "import seaborn as sns\n",
        "\n",
        "#setting the colors and size of the chart area\n",
        "plt.figure(figsize = (10,8))\n",
        "sns.set_palette(\"YlOrBr\", 9)\n",
        "\n",
        "#creating the chart\n",
        "r=sns.countplot(data=df_original, x='Region', order=df_original.Region.value_counts().index)\n",
        "\n",
        "#setting the chart and axis labels\n",
        "plt.xlabel(\"Region\", fontsize=12)\n",
        "plt.ylabel(\"Count of sessions\", fontsize=12)\n",
        "plt.title(\"Count and percentage of each Region\", fontsize=14)\n",
        "\n",
        "#adding percentage labels\n",
        "for p in r.patches:\n",
        "    percentage = '{:.1f}%'.format(100 * p.get_height()/len(df_original[\"Region\"]))\n",
        "    x = p.get_x() + p.get_width()\n",
        "    y = p.get_height()\n",
        "    r.annotate(percentage, (x, y),ha='right');\n"
      ],
      "metadata": {
        "colab": {
          "base_uri": "https://localhost:8080/",
          "height": 519
        },
        "id": "60jJOpcvjpmi",
        "outputId": "7a8db7a5-7148-4af3-a42d-cf1e33730109"
      },
      "execution_count": 88,
      "outputs": [
        {
          "output_type": "display_data",
          "data": {
            "text/plain": [
              "<Figure size 720x576 with 1 Axes>"
            ],
            "image/png": "[encoded data removed]"
          },
          "metadata": {}
        }
      ]
    },
    {
      "cell_type": "markdown",
      "source": [
        "* Region 1 seems to have siginificantly higher visitors than others."
      ],
      "metadata": {
        "id": "PHBrDwZrr7iq"
      }
    },
    {
      "cell_type": "markdown",
      "source": [
        "**Checking the count of \"Browser\" types of the visitors**"
      ],
      "metadata": {
        "id": "bQjX1B3B14u2"
      }
    },
    {
      "cell_type": "code",
      "source": [
        "df_original.Browser.value_counts()"
      ],
      "metadata": {
        "colab": {
          "base_uri": "https://localhost:8080/"
        },
        "id": "kHutYxjHsE5x",
        "outputId": "a3b374d5-dd39-438d-aad1-bc9ad1138419"
      },
      "execution_count": 89,
      "outputs": [
        {
          "output_type": "execute_result",
          "data": {
            "text/plain": [
              "2     7961\n",
              "1     2462\n",
              "4      736\n",
              "5      467\n",
              "6      174\n",
              "10     163\n",
              "8      135\n",
              "3      105\n",
              "13      61\n",
              "7       49\n",
              "12      10\n",
              "11       6\n",
              "9        1\n",
              "Name: Browser, dtype: int64"
            ]
          },
          "metadata": {},
          "execution_count": 89
        }
      ]
    },
    {
      "cell_type": "markdown",
      "source": [
        "**Plotting all of the \"Browser\" categories count**"
      ],
      "metadata": {
        "id": "TjN4fIux2Re9"
      }
    },
    {
      "cell_type": "code",
      "source": [
        "df_original.Browser.value_counts().plot(kind=\"bar\", color=\"darkgoldenrod\", title=\"Count of Visitor's Browser Type\",\n",
        "                                        xlabel= \"Browser Type\", ylabel=\"Count of sessions\");"
      ],
      "metadata": {
        "colab": {
          "base_uri": "https://localhost:8080/",
          "height": 305
        },
        "id": "hI2XaBxH2cF4",
        "outputId": "397d9a31-f605-4ea8-f106-980432e728aa"
      },
      "execution_count": 90,
      "outputs": [
        {
          "output_type": "display_data",
          "data": {
            "text/plain": [
              "<Figure size 432x288 with 1 Axes>"
            ],
            "image/png": "[encoded data removed]"
          },
          "metadata": {}
        }
      ]
    },
    {
      "cell_type": "markdown",
      "source": [
        "**Checking the \"OperatingSystems\" of the visitors**"
      ],
      "metadata": {
        "id": "aYBBPulx4K6o"
      }
    },
    {
      "cell_type": "code",
      "source": [
        "df_original.OperatingSystems.value_counts()"
      ],
      "metadata": {
        "colab": {
          "base_uri": "https://localhost:8080/"
        },
        "id": "YWOhC9X_4XxO",
        "outputId": "d8233f8b-86d9-4d50-a98d-02fb66949fb0"
      },
      "execution_count": 91,
      "outputs": [
        {
          "output_type": "execute_result",
          "data": {
            "text/plain": [
              "2    6601\n",
              "1    2585\n",
              "3    2555\n",
              "4     478\n",
              "8      79\n",
              "6      19\n",
              "7       7\n",
              "5       6\n",
              "Name: OperatingSystems, dtype: int64"
            ]
          },
          "metadata": {},
          "execution_count": 91
        }
      ]
    },
    {
      "cell_type": "markdown",
      "source": [
        "**Plotting the \"OperatingSystems\" of the visiotrs**"
      ],
      "metadata": {
        "id": "w3m2Q-mz49bb"
      }
    },
    {
      "cell_type": "code",
      "source": [
        "df_original.OperatingSystems.value_counts().plot(kind=\"bar\", color=\"teal\", title=\"Count of OperatingSystems Type\",\n",
        "                                        xlabel= \"OperatingSystems Type\", ylabel=\"Count of sessions\");"
      ],
      "metadata": {
        "colab": {
          "base_uri": "https://localhost:8080/",
          "height": 298
        },
        "id": "3XDAPrxq5DWr",
        "outputId": "9ba776c3-7b50-4191-d72c-7854d9c66675"
      },
      "execution_count": 92,
      "outputs": [
        {
          "output_type": "display_data",
          "data": {
            "text/plain": [
              "<Figure size 432x288 with 1 Axes>"
            ],
            "image/png": "[encoded data removed]"
          },
          "metadata": {}
        }
      ]
    },
    {
      "cell_type": "markdown",
      "source": [
        "* The last two categories of the operating system and the browser type have one majority category, zero in some categories and a medium number for some of their types. This is expected as some operating systems and browsers are very popular amongst users. "
      ],
      "metadata": {
        "id": "MIrrzyJE57h_"
      }
    },
    {
      "cell_type": "markdown",
      "source": [
        "**Checking the \"Month\" of the visits**"
      ],
      "metadata": {
        "id": "WkFz37EN60kW"
      }
    },
    {
      "cell_type": "code",
      "source": [
        "df_original.Month.value_counts()"
      ],
      "metadata": {
        "colab": {
          "base_uri": "https://localhost:8080/"
        },
        "id": "0JT9Huc_6_Xz",
        "outputId": "6806ecb5-fb2b-49fc-a074-38efe4e38f3a"
      },
      "execution_count": 93,
      "outputs": [
        {
          "output_type": "execute_result",
          "data": {
            "text/plain": [
              "May     3364\n",
              "Nov     2998\n",
              "Mar     1907\n",
              "Dec     1727\n",
              "Oct      549\n",
              "Sep      448\n",
              "Aug      433\n",
              "Jul      432\n",
              "June     288\n",
              "Feb      184\n",
              "Name: Month, dtype: int64"
            ]
          },
          "metadata": {},
          "execution_count": 93
        }
      ]
    },
    {
      "cell_type": "markdown",
      "source": [
        "**Visualising the \"Month\" of the visits** "
      ],
      "metadata": {
        "id": "K_J1xmUs7I1f"
      }
    },
    {
      "cell_type": "code",
      "source": [
        "#setting the colors and size of the chart area\n",
        "sns.set_palette(\"pastel\", 10)\n",
        "plt.figure(figsize = (10,8))\n",
        "\n",
        "#creating the chart\n",
        "ax=sns.countplot(data=df_original, x='Month', order=df_original.Month.value_counts().index)\n",
        "\n",
        "#setting the chart and axis labels\n",
        "plt.xlabel(\"Month\", fontsize=12)\n",
        "plt.ylabel(\"Count of sessions\", fontsize=12)\n",
        "plt.title(\"Count and percentage of the Month of the visits \", fontsize=14)\n",
        "\n",
        "#adding the percentage label\n",
        "for p in ax.patches:\n",
        "    percentage = '{:.1f}%'.format(100 * p.get_height()/len(df_original[\"Month\"]))\n",
        "    x = p.get_x() + p.get_width()\n",
        "    y = p.get_height()\n",
        "    ax.annotate(percentage, (x, y),ha='right')"
      ],
      "metadata": {
        "colab": {
          "base_uri": "https://localhost:8080/",
          "height": 519
        },
        "id": "nuilYKEX7Rra",
        "outputId": "55e83910-671d-4b1d-ada8-49ef35c01e22"
      },
      "execution_count": 94,
      "outputs": [
        {
          "output_type": "display_data",
          "data": {
            "text/plain": [
              "<Figure size 720x576 with 1 Axes>"
            ],
            "image/png": "[encoded data removed]"
          },
          "metadata": {}
        }
      ]
    },
    {
      "cell_type": "markdown",
      "source": [
        "* As noticed, there are no visits in \"January\" and \"April\". The month of May has the highest number of visits probabely due to closeness to summer vacations period, followed by Novemebr due to closeness to the Christmas time and Holidays.  "
      ],
      "metadata": {
        "id": "JIXXa5AK7rsZ"
      }
    },
    {
      "cell_type": "markdown",
      "source": [
        "-------------------------------------\n",
        "# **EDA for Numerical Variables** \n",
        "-------------------------------------"
      ],
      "metadata": {
        "id": "DcWiTd1eBYqf"
      }
    },
    {
      "cell_type": "markdown",
      "source": [
        "**Exploring \"Administrative\" sessions distribution**"
      ],
      "metadata": {
        "id": "Ds2LZxvcBc7U"
      }
    },
    {
      "cell_type": "code",
      "source": [
        "#setting the chart size and theme\n",
        "plt.figure(figsize = (15,10))\n",
        "sns.set_theme(style=\"whitegrid\")\n",
        "\n",
        "#creating the chart\n",
        "sns.countplot( x=df_original['Administrative'], palette=\"Set2\")\n",
        "\n",
        "#setting the title of the chart and axis \n",
        "plt.title('Distribution of Number of \"Administrative\" pages visited during each visit', \n",
        "          fontsize=20 )\n",
        "plt.xlabel('Number of \"Administrative\" pages visited', fontsize= 14)\n",
        "plt.ylabel('Count of sessions', fontsize= 14)\n",
        "\n",
        "#printing the chart\n",
        "plt.show()"
      ],
      "metadata": {
        "colab": {
          "base_uri": "https://localhost:8080/",
          "height": 633
        },
        "id": "r2tV9eeCBuBV",
        "outputId": "577999b8-a377-4a7a-dd8d-b44f3a282ee1"
      },
      "execution_count": 95,
      "outputs": [
        {
          "output_type": "display_data",
          "data": {
            "text/plain": [
              "<Figure size 1080x720 with 1 Axes>"
            ],
            "image/png": "[encoded data removed]"
          },
          "metadata": {}
        }
      ]
    },
    {
      "cell_type": "markdown",
      "source": [
        "* As expected the majority of visitors do not access \"Aministrative\" pages during their visit. "
      ],
      "metadata": {
        "id": "S6S1os55HGDx"
      }
    },
    {
      "cell_type": "markdown",
      "source": [
        "**Exploring the \"Administrative_Duration\" distribution**"
      ],
      "metadata": {
        "id": "8yY0yPJoHVwf"
      }
    },
    {
      "cell_type": "code",
      "source": [
        "#setting the chart size and theme\n",
        "plt.figure(figsize = (10,8))\n",
        "sns.set_style('darkgrid')\n",
        "\n",
        "#plotting the distribution by creating bins \n",
        "sns.histplot(df_original [\"Administrative_Duration\"], bins=35, color=\"salmon\")\n",
        "\n",
        "#setting the title of the chart and axis \n",
        "plt.title('Distribution of \"Duration\" of time spent on \"Administrative\" pages', \n",
        "          fontsize=16 )\n",
        "plt.xlabel('Administrative_Duration (seconds)', fontsize= 12)\n",
        "plt.ylabel('Count of sessions', fontsize= 12)\n",
        "\n",
        "#printing the chart\n",
        "plt.show();\n"
      ],
      "metadata": {
        "colab": {
          "base_uri": "https://localhost:8080/",
          "height": 520
        },
        "id": "TYk3qlVtHgkA",
        "outputId": "e44f5338-e9dc-4969-f181-88713b2a4d4d"
      },
      "execution_count": 96,
      "outputs": [
        {
          "output_type": "display_data",
          "data": {
            "text/plain": [
              "<Figure size 720x576 with 1 Axes>"
            ],
            "image/png": "[encoded data removed]"
          },
          "metadata": {}
        }
      ]
    },
    {
      "cell_type": "markdown",
      "source": [
        "* The majority of visitors spend 0-100 seconds on \"Administrative\" Pages. "
      ],
      "metadata": {
        "id": "RLFBuORZKTY-"
      }
    },
    {
      "cell_type": "markdown",
      "source": [
        "**Checking the distribution of \"Informational\" pages and their duration which is \"Informational_Duration\"**"
      ],
      "metadata": {
        "id": "WZ_NciWIKcvd"
      }
    },
    {
      "cell_type": "code",
      "source": [
        "#setting the chart size and theme\n",
        "sns.set_style('darkgrid')\n",
        "plt.figure(figsize = (25,10))\n",
        "\n",
        "#using the first place holder for the first chart\n",
        "plt.subplot(1,2,1)\n",
        "\n",
        "#creating the first chart\n",
        "sns.countplot( x = df_original['Informational'], palette=\"pastel\")\n",
        "\n",
        "#setting the first chart's title \n",
        "plt.title('Distribution of number of \"Informational\" pages visited by the users ', fontsize=16)\n",
        "plt.xlabel('Number of Informational Pages visited', fontsize= 12)\n",
        "plt.ylabel('Count of sessions', fontsize= 12)\n",
        "\n",
        "#using the second place holder for the second chart\n",
        "plt.subplot(1,2,2)\n",
        "\n",
        "#setting the second chart's title \n",
        "plt.title('Distribution of \"duration\" spent on \"Informational\" pages by the users', fontsize=16)\n",
        "plt.xlabel('Informational_Duration (seconds)', fontsize= 12)\n",
        "plt.ylabel('Count of sessions', fontsize= 12)\n",
        "\n",
        "#creating the second chart\n",
        "sns.histplot(x = df_original['Informational_Duration'], bins=25, color=\"darkseagreen\")\n",
        "\n",
        "#printing the charts\n",
        "plt.show()"
      ],
      "metadata": {
        "colab": {
          "base_uri": "https://localhost:8080/",
          "height": 606
        },
        "id": "8csGwgJaKz-5",
        "outputId": "356032a0-b171-4e79-e4ad-0c331d057428"
      },
      "execution_count": 97,
      "outputs": [
        {
          "output_type": "display_data",
          "data": {
            "text/plain": [
              "<Figure size 1800x720 with 2 Axes>"
            ],
            "image/png": "[encoded data removed]"
          },
          "metadata": {}
        }
      ]
    },
    {
      "cell_type": "markdown",
      "source": [
        "* Similar to \"Administrative\", the \"informational\" pages are not accessed during the majority of the visit sessions. The duration spent on these pages is mainly between zer to 100 seconds. "
      ],
      "metadata": {
        "id": "CVD8gvvFM7rS"
      }
    },
    {
      "cell_type": "markdown",
      "source": [
        "**Exploring the distribution for \"ProductRelated\" pages and the duration spent on those pages by the users**"
      ],
      "metadata": {
        "id": "LoQK55jsNUlX"
      }
    },
    {
      "cell_type": "code",
      "source": [
        "#setting the chart size and theme\n",
        "sns.set_style('darkgrid')\n",
        "plt.figure(figsize = (25,10))\n",
        "\n",
        "#using the first place holder for the first chart\n",
        "plt.subplot(1,2,1)\n",
        "\n",
        "#setting the first chart's title \n",
        "plt.title('Distribution of number of \"ProductRelated\" pages visited by the users ', fontsize=16)\n",
        "\n",
        "#creating the first chart\n",
        "sns.histplot( x = df_original['ProductRelated'], bins=35, color=\"tomato\")\n",
        "\n",
        "#using the second place holder for the second chart\n",
        "plt.subplot(1,2,2)\n",
        "\n",
        "#setting the second chart's title \n",
        "plt.title('Distribution of \"duration\" spent on \"ProductRelated\" pages by the users', fontsize=16)\n",
        "\n",
        "#creating the second chart\n",
        "sns.histplot(x = df_original['ProductRelated_Duration'], bins=65, color=\"olive\")\n",
        "\n",
        "#printing the charts\n",
        "plt.show()"
      ],
      "metadata": {
        "colab": {
          "base_uri": "https://localhost:8080/",
          "height": 609
        },
        "id": "z-C7ZAZjNsPo",
        "outputId": "9558351d-30d7-4baf-b9c2-cc3cff3700e3"
      },
      "execution_count": 98,
      "outputs": [
        {
          "output_type": "display_data",
          "data": {
            "text/plain": [
              "<Figure size 1800x720 with 2 Axes>"
            ],
            "image/png": "[encoded data removed]"
          },
          "metadata": {}
        }
      ]
    },
    {
      "cell_type": "markdown",
      "source": [
        "* There is an apparant difference on number of ProductRelated pages visited, and total duration spent on those pages compared to \"Administrative\" and \"Informational\" pages.\n",
        "* The majority of visitors access between 0-20 ProductRelated pages and spend 0-1000 seconds on them, which is significantly higher than other types of pages as expected. "
      ],
      "metadata": {
        "id": "RgPIkigfO8Qp"
      }
    },
    {
      "cell_type": "markdown",
      "source": [
        "**Exploring the distribution of \"BounceRates\"**"
      ],
      "metadata": {
        "id": "pEXrQmnOP3Fp"
      }
    },
    {
      "cell_type": "code",
      "source": [
        "#setting the chart size and theme \n",
        "plt.figure(figsize = (8,6))\n",
        "sns.set_theme(style=\"darkgrid\")\n",
        "\n",
        "#creating the chart\n",
        "sns.histplot( x=df_original[\"BounceRates\"], color=\"palevioletred\", bins=8)\n",
        "\n",
        "#setting the chart and axis titles\n",
        "plt.title('Distribution of \"BounceRates\" of the visitors', fontsize=16 )\n",
        "plt.xlabel(\"Average BounceRates\", fontsize= 12)\n",
        "plt.ylabel('Count of sessions', fontsize= 12)\n",
        "\n",
        "#printing the chart\n",
        "plt.show()"
      ],
      "metadata": {
        "colab": {
          "base_uri": "https://localhost:8080/",
          "height": 412
        },
        "id": "72Nfv2BgQHfW",
        "outputId": "0485a976-2ae0-4153-da52-097df49a247c"
      },
      "execution_count": 99,
      "outputs": [
        {
          "output_type": "display_data",
          "data": {
            "text/plain": [
              "<Figure size 576x432 with 1 Axes>"
            ],
            "image/png": "[encoded data removed]"
          },
          "metadata": {}
        }
      ]
    },
    {
      "cell_type": "markdown",
      "source": [
        "* The majority of the sessions, have 0-2.5% average BounceRate of all pages visited during the session. "
      ],
      "metadata": {
        "id": "-s7fMlI6hECT"
      }
    },
    {
      "cell_type": "markdown",
      "source": [
        "**Exploring the distribution of \"ExitRates\"**"
      ],
      "metadata": {
        "id": "5NBv7NpuWdoH"
      }
    },
    {
      "cell_type": "code",
      "source": [
        "#setting the chart size and theme \n",
        "plt.figure(figsize = (8,6))\n",
        "sns.set_theme(style=\"darkgrid\")\n",
        "\n",
        "#creating the chart\n",
        "sns.histplot( x=df_original[\"ExitRates\"], color=\"chocolate\", bins=8)\n",
        "\n",
        "#setting the chart and axis titles\n",
        "plt.title('Distribution of \"ExitRates\" of the visitors', fontsize=16 )\n",
        "plt.xlabel(\"Average ExitRates\", fontsize= 12)\n",
        "plt.ylabel('Count of sessions', fontsize= 12)\n",
        "\n",
        "#printing the chart\n",
        "plt.show()"
      ],
      "metadata": {
        "colab": {
          "base_uri": "https://localhost:8080/",
          "height": 412
        },
        "id": "rKlWR5ejWkiq",
        "outputId": "a6c8fe81-53d6-4958-dc4b-79cb4293eacf"
      },
      "execution_count": 100,
      "outputs": [
        {
          "output_type": "display_data",
          "data": {
            "text/plain": [
              "<Figure size 576x432 with 1 Axes>"
            ],
            "image/png": "[encoded data removed]"
          },
          "metadata": {}
        }
      ]
    },
    {
      "cell_type": "markdown",
      "source": [
        "* The majority of the sessions, have 0-2.5% average ExitRates for all pages visited during the session, followed by 2.5-5%. "
      ],
      "metadata": {
        "id": "M8I1fefVbdIv"
      }
    },
    {
      "cell_type": "markdown",
      "source": [
        "**Exploring the distribution of \"PageValues\"**"
      ],
      "metadata": {
        "id": "_8z-Qb5nXVWK"
      }
    },
    {
      "cell_type": "code",
      "source": [
        "#setting the chart size and theme \n",
        "plt.figure(figsize = (8,6))\n",
        "sns.set_theme(style=\"darkgrid\")\n",
        "\n",
        "#creating the chart\n",
        "sns.histplot( x=df_original[\"PageValues\"], color=\"mediumseagreen\", bins=36)\n",
        "\n",
        "#setting the chart and axis titles\n",
        "plt.title('Distribution of \"PageValues\"', fontsize=16 )\n",
        "plt.xlabel('Average \"PageValues\" of the pages visited', fontsize= 12)\n",
        "plt.ylabel('Count of sessions', fontsize= 12)\n",
        "\n",
        "#printing the chart\n",
        "plt.show()"
      ],
      "metadata": {
        "colab": {
          "base_uri": "https://localhost:8080/",
          "height": 412
        },
        "id": "KWd-znHLXgjl",
        "outputId": "7de3c8fe-b6a3-4149-c58a-9f61438f2e10"
      },
      "execution_count": 101,
      "outputs": [
        {
          "output_type": "display_data",
          "data": {
            "text/plain": [
              "<Figure size 576x432 with 1 Axes>"
            ],
            "image/png": "[encoded data removed]"
          },
          "metadata": {}
        }
      ]
    },
    {
      "cell_type": "markdown",
      "source": [
        "* For the majority of the sessions the average page value of all visited pages during each session falls between zero and 10. "
      ],
      "metadata": {
        "id": "gao2Cs43apvJ"
      }
    },
    {
      "cell_type": "markdown",
      "source": [
        "**Exploring the distribution of \"SpecialDay\"**"
      ],
      "metadata": {
        "id": "PAoUJOA-YS9-"
      }
    },
    {
      "cell_type": "code",
      "source": [
        "#setting the chart size and theme \n",
        "plt.figure(figsize = (8,6))\n",
        "sns.set_theme(style=\"darkgrid\")\n",
        "\n",
        "#creating the chart\n",
        "sns.countplot( x=df_original[\"SpecialDay\"], color=\"orchid\")\n",
        "\n",
        "#setting the chart and axis titles\n",
        "plt.title('Distribution of \"SpecialDay\"', fontsize=16 )\n",
        "plt.xlabel('closeness of a \"SpecialDay\" to the day that page was visited', fontsize= 12)\n",
        "plt.ylabel('Count of sessions', fontsize= 12)\n",
        "\n",
        "#printing the chart\n",
        "plt.show()"
      ],
      "metadata": {
        "colab": {
          "base_uri": "https://localhost:8080/",
          "height": 412
        },
        "id": "XGtBuT42YgSc",
        "outputId": "00f027e2-882a-4888-ec4c-3eb24dad4334"
      },
      "execution_count": 102,
      "outputs": [
        {
          "output_type": "display_data",
          "data": {
            "text/plain": [
              "<Figure size 576x432 with 1 Axes>"
            ],
            "image/png": "[encoded data removed]"
          },
          "metadata": {}
        }
      ]
    },
    {
      "cell_type": "markdown",
      "source": [
        "* The majority of visits do not happen close to a special day. This seems to be the result of considerations regarding the delivery period for the purchase. "
      ],
      "metadata": {
        "id": "MbVZRQeTuk4z"
      }
    },
    {
      "cell_type": "markdown",
      "source": [
        "# **Note: Bivariate  and Multi-variate analysis are conducted in separate notebooks.**"
      ],
      "metadata": {
        "id": "WN0CgGbkZc0_"
      }
    }
  ]
}