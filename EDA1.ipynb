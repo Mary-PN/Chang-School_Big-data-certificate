{
  "nbformat": 4,
  "nbformat_minor": 0,
  "metadata": {
    "colab": {
      "name": "EDA_ 1.ipynb",
      "provenance": [],
      "collapsed_sections": []
    },
    "kernelspec": {
      "name": "python3",
      "display_name": "Python 3"
    },
    "language_info": {
      "name": "python"
    }
  },
  "cells": [
    {
      "cell_type": "markdown",
      "source": [
        "\n",
        "\n",
        "---------------------------------------------------------------------\n",
        "# **Exploratory Data Analysis** #1\n",
        "\n",
        ">***UC-Irvine Online Shoppers Purchasing Intention Dataset***\n",
        "---------------------------------------------------------------------"
      ],
      "metadata": {
        "id": "PVsjtKmlZu-z"
      }
    },
    {
      "cell_type": "markdown",
      "source": [
        "**Installing necessary packages**"
      ],
      "metadata": {
        "id": "6lD4aqFn_QKR"
      }
    },
    {
      "cell_type": "code",
      "source": [
        "import numpy as np\n",
        "import pandas as pd\n",
        "from pandas.core.frame import DataFrame\n",
        "import matplotlib.pyplot as plt"
      ],
      "metadata": {
        "id": "4_89Bq9kxUub"
      },
      "execution_count": 1,
      "outputs": []
    },
    {
      "cell_type": "markdown",
      "source": [
        "**Reading the dataset to Pandas dataframe**"
      ],
      "metadata": {
        "id": "7Zk9_rizxR-L"
      }
    },
    {
      "cell_type": "code",
      "source": [
        "\n",
        "url = \"http://archive.ics.uci.edu/ml/machine-learning-databases/00468/online_shoppers_intention.csv\"\n",
        "df_original = pd.read_csv (url)"
      ],
      "metadata": {
        "id": "HlyOdLEe_qQN"
      },
      "execution_count": 2,
      "outputs": []
    },
    {
      "cell_type": "markdown",
      "source": [
        "**Looking at the first 10 rows of the dataset**"
      ],
      "metadata": {
        "id": "fVuBF6TXCePq"
      }
    },
    {
      "cell_type": "code",
      "source": [
        "df_original.head(10)"
      ],
      "metadata": {
        "colab": {
          "base_uri": "https://localhost:8080/",
          "height": 427
        },
        "id": "MRQ4Prz2Cjfh",
        "outputId": "ab6cdd1e-fcd8-4240-aa1b-d22eb3b0b5e4"
      },
      "execution_count": 3,
      "outputs": [
        {
          "output_type": "execute_result",
          "data": {
            "text/plain": [
              "   Administrative  Administrative_Duration  Informational  \\\n",
              "0               0                      0.0              0   \n",
              "1               0                      0.0              0   \n",
              "2               0                      0.0              0   \n",
              "3               0                      0.0              0   \n",
              "4               0                      0.0              0   \n",
              "5               0                      0.0              0   \n",
              "6               0                      0.0              0   \n",
              "7               1                      0.0              0   \n",
              "8               0                      0.0              0   \n",
              "9               0                      0.0              0   \n",
              "\n",
              "   Informational_Duration  ProductRelated  ProductRelated_Duration  \\\n",
              "0                     0.0               1                 0.000000   \n",
              "1                     0.0               2                64.000000   \n",
              "2                     0.0               1                 0.000000   \n",
              "3                     0.0               2                 2.666667   \n",
              "4                     0.0              10               627.500000   \n",
              "5                     0.0              19               154.216667   \n",
              "6                     0.0               1                 0.000000   \n",
              "7                     0.0               0                 0.000000   \n",
              "8                     0.0               2                37.000000   \n",
              "9                     0.0               3               738.000000   \n",
              "\n",
              "   BounceRates  ExitRates  PageValues  SpecialDay Month  OperatingSystems  \\\n",
              "0     0.200000   0.200000         0.0         0.0   Feb                 1   \n",
              "1     0.000000   0.100000         0.0         0.0   Feb                 2   \n",
              "2     0.200000   0.200000         0.0         0.0   Feb                 4   \n",
              "3     0.050000   0.140000         0.0         0.0   Feb                 3   \n",
              "4     0.020000   0.050000         0.0         0.0   Feb                 3   \n",
              "5     0.015789   0.024561         0.0         0.0   Feb                 2   \n",
              "6     0.200000   0.200000         0.0         0.4   Feb                 2   \n",
              "7     0.200000   0.200000         0.0         0.0   Feb                 1   \n",
              "8     0.000000   0.100000         0.0         0.8   Feb                 2   \n",
              "9     0.000000   0.022222         0.0         0.4   Feb                 2   \n",
              "\n",
              "   Browser  Region  TrafficType        VisitorType  Weekend  Revenue  \n",
              "0        1       1            1  Returning_Visitor    False    False  \n",
              "1        2       1            2  Returning_Visitor    False    False  \n",
              "2        1       9            3  Returning_Visitor    False    False  \n",
              "3        2       2            4  Returning_Visitor    False    False  \n",
              "4        3       1            4  Returning_Visitor     True    False  \n",
              "5        2       1            3  Returning_Visitor    False    False  \n",
              "6        4       3            3  Returning_Visitor    False    False  \n",
              "7        2       1            5  Returning_Visitor     True    False  \n",
              "8        2       2            3  Returning_Visitor    False    False  \n",
              "9        4       1            2  Returning_Visitor    False    False  "
            ],
            "text/html": [
              "\n",
              "  <div id=\"df-80297ab6-cd98-4a9d-8300-a8931a5a83c0\">\n",
              "    <div class=\"colab-df-container\">\n",
              "      <div>\n",
              "<style scoped>\n",
              "    .dataframe tbody tr th:only-of-type {\n",
              "        vertical-align: middle;\n",
              "    }\n",
              "\n",
              "    .dataframe tbody tr th {\n",
              "        vertical-align: top;\n",
              "    }\n",
              "\n",
              "    .dataframe thead th {\n",
              "        text-align: right;\n",
              "    }\n",
              "</style>\n",
              "<table border=\"1\" class=\"dataframe\">\n",
              "  <thead>\n",
              "    <tr style=\"text-align: right;\">\n",
              "      <th></th>\n",
              "      <th>Administrative</th>\n",
              "      <th>Administrative_Duration</th>\n",
              "      <th>Informational</th>\n",
              "      <th>Informational_Duration</th>\n",
              "      <th>ProductRelated</th>\n",
              "      <th>ProductRelated_Duration</th>\n",
              "      <th>BounceRates</th>\n",
              "      <th>ExitRates</th>\n",
              "      <th>PageValues</th>\n",
              "      <th>SpecialDay</th>\n",
              "      <th>Month</th>\n",
              "      <th>OperatingSystems</th>\n",
              "      <th>Browser</th>\n",
              "      <th>Region</th>\n",
              "      <th>TrafficType</th>\n",
              "      <th>VisitorType</th>\n",
              "      <th>Weekend</th>\n",
              "      <th>Revenue</th>\n",
              "    </tr>\n",
              "  </thead>\n",
              "  <tbody>\n",
              "    <tr>\n",
              "      <th>0</th>\n",
              "      <td>0</td>\n",
              "      <td>0.0</td>\n",
              "      <td>0</td>\n",
              "      <td>0.0</td>\n",
              "      <td>1</td>\n",
              "      <td>0.000000</td>\n",
              "      <td>0.200000</td>\n",
              "      <td>0.200000</td>\n",
              "      <td>0.0</td>\n",
              "      <td>0.0</td>\n",
              "      <td>Feb</td>\n",
              "      <td>1</td>\n",
              "      <td>1</td>\n",
              "      <td>1</td>\n",
              "      <td>1</td>\n",
              "      <td>Returning_Visitor</td>\n",
              "      <td>False</td>\n",
              "      <td>False</td>\n",
              "    </tr>\n",
              "    <tr>\n",
              "      <th>1</th>\n",
              "      <td>0</td>\n",
              "      <td>0.0</td>\n",
              "      <td>0</td>\n",
              "      <td>0.0</td>\n",
              "      <td>2</td>\n",
              "      <td>64.000000</td>\n",
              "      <td>0.000000</td>\n",
              "      <td>0.100000</td>\n",
              "      <td>0.0</td>\n",
              "      <td>0.0</td>\n",
              "      <td>Feb</td>\n",
              "      <td>2</td>\n",
              "      <td>2</td>\n",
              "      <td>1</td>\n",
              "      <td>2</td>\n",
              "      <td>Returning_Visitor</td>\n",
              "      <td>False</td>\n",
              "      <td>False</td>\n",
              "    </tr>\n",
              "    <tr>\n",
              "      <th>2</th>\n",
              "      <td>0</td>\n",
              "      <td>0.0</td>\n",
              "      <td>0</td>\n",
              "      <td>0.0</td>\n",
              "      <td>1</td>\n",
              "      <td>0.000000</td>\n",
              "      <td>0.200000</td>\n",
              "      <td>0.200000</td>\n",
              "      <td>0.0</td>\n",
              "      <td>0.0</td>\n",
              "      <td>Feb</td>\n",
              "      <td>4</td>\n",
              "      <td>1</td>\n",
              "      <td>9</td>\n",
              "      <td>3</td>\n",
              "      <td>Returning_Visitor</td>\n",
              "      <td>False</td>\n",
              "      <td>False</td>\n",
              "    </tr>\n",
              "    <tr>\n",
              "      <th>3</th>\n",
              "      <td>0</td>\n",
              "      <td>0.0</td>\n",
              "      <td>0</td>\n",
              "      <td>0.0</td>\n",
              "      <td>2</td>\n",
              "      <td>2.666667</td>\n",
              "      <td>0.050000</td>\n",
              "      <td>0.140000</td>\n",
              "      <td>0.0</td>\n",
              "      <td>0.0</td>\n",
              "      <td>Feb</td>\n",
              "      <td>3</td>\n",
              "      <td>2</td>\n",
              "      <td>2</td>\n",
              "      <td>4</td>\n",
              "      <td>Returning_Visitor</td>\n",
              "      <td>False</td>\n",
              "      <td>False</td>\n",
              "    </tr>\n",
              "    <tr>\n",
              "      <th>4</th>\n",
              "      <td>0</td>\n",
              "      <td>0.0</td>\n",
              "      <td>0</td>\n",
              "      <td>0.0</td>\n",
              "      <td>10</td>\n",
              "      <td>627.500000</td>\n",
              "      <td>0.020000</td>\n",
              "      <td>0.050000</td>\n",
              "      <td>0.0</td>\n",
              "      <td>0.0</td>\n",
              "      <td>Feb</td>\n",
              "      <td>3</td>\n",
              "      <td>3</td>\n",
              "      <td>1</td>\n",
              "      <td>4</td>\n",
              "      <td>Returning_Visitor</td>\n",
              "      <td>True</td>\n",
              "      <td>False</td>\n",
              "    </tr>\n",
              "    <tr>\n",
              "      <th>5</th>\n",
              "      <td>0</td>\n",
              "      <td>0.0</td>\n",
              "      <td>0</td>\n",
              "      <td>0.0</td>\n",
              "      <td>19</td>\n",
              "      <td>154.216667</td>\n",
              "      <td>0.015789</td>\n",
              "      <td>0.024561</td>\n",
              "      <td>0.0</td>\n",
              "      <td>0.0</td>\n",
              "      <td>Feb</td>\n",
              "      <td>2</td>\n",
              "      <td>2</td>\n",
              "      <td>1</td>\n",
              "      <td>3</td>\n",
              "      <td>Returning_Visitor</td>\n",
              "      <td>False</td>\n",
              "      <td>False</td>\n",
              "    </tr>\n",
              "    <tr>\n",
              "      <th>6</th>\n",
              "      <td>0</td>\n",
              "      <td>0.0</td>\n",
              "      <td>0</td>\n",
              "      <td>0.0</td>\n",
              "      <td>1</td>\n",
              "      <td>0.000000</td>\n",
              "      <td>0.200000</td>\n",
              "      <td>0.200000</td>\n",
              "      <td>0.0</td>\n",
              "      <td>0.4</td>\n",
              "      <td>Feb</td>\n",
              "      <td>2</td>\n",
              "      <td>4</td>\n",
              "      <td>3</td>\n",
              "      <td>3</td>\n",
              "      <td>Returning_Visitor</td>\n",
              "      <td>False</td>\n",
              "      <td>False</td>\n",
              "    </tr>\n",
              "    <tr>\n",
              "      <th>7</th>\n",
              "      <td>1</td>\n",
              "      <td>0.0</td>\n",
              "      <td>0</td>\n",
              "      <td>0.0</td>\n",
              "      <td>0</td>\n",
              "      <td>0.000000</td>\n",
              "      <td>0.200000</td>\n",
              "      <td>0.200000</td>\n",
              "      <td>0.0</td>\n",
              "      <td>0.0</td>\n",
              "      <td>Feb</td>\n",
              "      <td>1</td>\n",
              "      <td>2</td>\n",
              "      <td>1</td>\n",
              "      <td>5</td>\n",
              "      <td>Returning_Visitor</td>\n",
              "      <td>True</td>\n",
              "      <td>False</td>\n",
              "    </tr>\n",
              "    <tr>\n",
              "      <th>8</th>\n",
              "      <td>0</td>\n",
              "      <td>0.0</td>\n",
              "      <td>0</td>\n",
              "      <td>0.0</td>\n",
              "      <td>2</td>\n",
              "      <td>37.000000</td>\n",
              "      <td>0.000000</td>\n",
              "      <td>0.100000</td>\n",
              "      <td>0.0</td>\n",
              "      <td>0.8</td>\n",
              "      <td>Feb</td>\n",
              "      <td>2</td>\n",
              "      <td>2</td>\n",
              "      <td>2</td>\n",
              "      <td>3</td>\n",
              "      <td>Returning_Visitor</td>\n",
              "      <td>False</td>\n",
              "      <td>False</td>\n",
              "    </tr>\n",
              "    <tr>\n",
              "      <th>9</th>\n",
              "      <td>0</td>\n",
              "      <td>0.0</td>\n",
              "      <td>0</td>\n",
              "      <td>0.0</td>\n",
              "      <td>3</td>\n",
              "      <td>738.000000</td>\n",
              "      <td>0.000000</td>\n",
              "      <td>0.022222</td>\n",
              "      <td>0.0</td>\n",
              "      <td>0.4</td>\n",
              "      <td>Feb</td>\n",
              "      <td>2</td>\n",
              "      <td>4</td>\n",
              "      <td>1</td>\n",
              "      <td>2</td>\n",
              "      <td>Returning_Visitor</td>\n",
              "      <td>False</td>\n",
              "      <td>False</td>\n",
              "    </tr>\n",
              "  </tbody>\n",
              "</table>\n",
              "</div>\n",
              "      <button class=\"colab-df-convert\" onclick=\"convertToInteractive('df-80297ab6-cd98-4a9d-8300-a8931a5a83c0')\"\n",
              "              title=\"Convert this dataframe to an interactive table.\"\n",
              "              style=\"display:none;\">\n",
              "        \n",
              "  <svg xmlns=\"http://www.w3.org/2000/svg\" height=\"24px\"viewBox=\"0 0 24 24\"\n",
              "       width=\"24px\">\n",
              "    <path d=\"M0 0h24v24H0V0z\" fill=\"none\"/>\n",
              "    <path d=\"M18.56 5.44l.94 2.06.94-2.06 2.06-.94-2.06-.94-.94-2.06-.94 2.06-2.06.94zm-11 1L8.5 8.5l.94-2.06 2.06-.94-2.06-.94L8.5 2.5l-.94 2.06-2.06.94zm10 10l.94 2.06.94-2.06 2.06-.94-2.06-.94-.94-2.06-.94 2.06-2.06.94z\"/><path d=\"M17.41 7.96l-1.37-1.37c-.4-.4-.92-.59-1.43-.59-.52 0-1.04.2-1.43.59L10.3 9.45l-7.72 7.72c-.78.78-.78 2.05 0 2.83L4 21.41c.39.39.9.59 1.41.59.51 0 1.02-.2 1.41-.59l7.78-7.78 2.81-2.81c.8-.78.8-2.07 0-2.86zM5.41 20L4 18.59l7.72-7.72 1.47 1.35L5.41 20z\"/>\n",
              "  </svg>\n",
              "      </button>\n",
              "      \n",
              "  <style>\n",
              "    .colab-df-container {\n",
              "      display:flex;\n",
              "      flex-wrap:wrap;\n",
              "      gap: 12px;\n",
              "    }\n",
              "\n",
              "    .colab-df-convert {\n",
              "      background-color: #E8F0FE;\n",
              "      border: none;\n",
              "      border-radius: 50%;\n",
              "      cursor: pointer;\n",
              "      display: none;\n",
              "      fill: #1967D2;\n",
              "      height: 32px;\n",
              "      padding: 0 0 0 0;\n",
              "      width: 32px;\n",
              "    }\n",
              "\n",
              "    .colab-df-convert:hover {\n",
              "      background-color: #E2EBFA;\n",
              "      box-shadow: 0px 1px 2px rgba(60, 64, 67, 0.3), 0px 1px 3px 1px rgba(60, 64, 67, 0.15);\n",
              "      fill: #174EA6;\n",
              "    }\n",
              "\n",
              "    [theme=dark] .colab-df-convert {\n",
              "      background-color: #3B4455;\n",
              "      fill: #D2E3FC;\n",
              "    }\n",
              "\n",
              "    [theme=dark] .colab-df-convert:hover {\n",
              "      background-color: #434B5C;\n",
              "      box-shadow: 0px 1px 3px 1px rgba(0, 0, 0, 0.15);\n",
              "      filter: drop-shadow(0px 1px 2px rgba(0, 0, 0, 0.3));\n",
              "      fill: #FFFFFF;\n",
              "    }\n",
              "  </style>\n",
              "\n",
              "      <script>\n",
              "        const buttonEl =\n",
              "          document.querySelector('#df-80297ab6-cd98-4a9d-8300-a8931a5a83c0 button.colab-df-convert');\n",
              "        buttonEl.style.display =\n",
              "          google.colab.kernel.accessAllowed ? 'block' : 'none';\n",
              "\n",
              "        async function convertToInteractive(key) {\n",
              "          const element = document.querySelector('#df-80297ab6-cd98-4a9d-8300-a8931a5a83c0');\n",
              "          const dataTable =\n",
              "            await google.colab.kernel.invokeFunction('convertToInteractive',\n",
              "                                                     [key], {});\n",
              "          if (!dataTable) return;\n",
              "\n",
              "          const docLinkHtml = 'Like what you see? Visit the ' +\n",
              "            '<a target=\"_blank\" href=https://colab.research.google.com/notebooks/data_table.ipynb>data table notebook</a>'\n",
              "            + ' to learn more about interactive tables.';\n",
              "          element.innerHTML = '';\n",
              "          dataTable['output_type'] = 'display_data';\n",
              "          await google.colab.output.renderOutput(dataTable, element);\n",
              "          const docLink = document.createElement('div');\n",
              "          docLink.innerHTML = docLinkHtml;\n",
              "          element.appendChild(docLink);\n",
              "        }\n",
              "      </script>\n",
              "    </div>\n",
              "  </div>\n",
              "  "
            ]
          },
          "metadata": {},
          "execution_count": 3
        }
      ]
    },
    {
      "cell_type": "markdown",
      "source": [
        "**Checking the number of attributes and observations**"
      ],
      "metadata": {
        "id": "HqrRGAej_7w7"
      }
    },
    {
      "cell_type": "code",
      "source": [
        "from numpy.ma.core import shape\n",
        "shape(df_original)"
      ],
      "metadata": {
        "colab": {
          "base_uri": "https://localhost:8080/"
        },
        "id": "Jft8EG3FBCtF",
        "outputId": "940eec79-921b-4e8b-82a6-84705566ac80"
      },
      "execution_count": 4,
      "outputs": [
        {
          "output_type": "execute_result",
          "data": {
            "text/plain": [
              "(18, 12330)"
            ]
          },
          "metadata": {},
          "execution_count": 4
        }
      ]
    },
    {
      "cell_type": "markdown",
      "source": [
        "*   As we can see the data has 18 attributes and 12330 observations. \n",
        "\n",
        "\n"
      ],
      "metadata": {
        "id": "kheqIE9_BLrr"
      }
    },
    {
      "cell_type": "markdown",
      "source": [
        "**Checking the name and type of attributes**"
      ],
      "metadata": {
        "id": "UqulnjjfBhA5"
      }
    },
    {
      "cell_type": "code",
      "source": [
        "df_original.dtypes"
      ],
      "metadata": {
        "colab": {
          "base_uri": "https://localhost:8080/"
        },
        "id": "2scxXvTLBn8P",
        "outputId": "92737ae8-c4e1-4aa1-ddb8-e2b9a89b7300"
      },
      "execution_count": 5,
      "outputs": [
        {
          "output_type": "execute_result",
          "data": {
            "text/plain": [
              "Administrative               int64\n",
              "Administrative_Duration    float64\n",
              "Informational                int64\n",
              "Informational_Duration     float64\n",
              "ProductRelated               int64\n",
              "ProductRelated_Duration    float64\n",
              "BounceRates                float64\n",
              "ExitRates                  float64\n",
              "PageValues                 float64\n",
              "SpecialDay                 float64\n",
              "Month                       object\n",
              "OperatingSystems             int64\n",
              "Browser                      int64\n",
              "Region                       int64\n",
              "TrafficType                  int64\n",
              "VisitorType                 object\n",
              "Weekend                       bool\n",
              "Revenue                       bool\n",
              "dtype: object"
            ]
          },
          "metadata": {},
          "execution_count": 5
        }
      ]
    },
    {
      "cell_type": "markdown",
      "source": [
        "*   The data consist of the fllowing datatypes: 2 boolean, 7 float64, 7 int64 and 2 objects. We will look into each attribute further. "
      ],
      "metadata": {
        "id": "gfSEkEXK1Ekd"
      }
    },
    {
      "cell_type": "markdown",
      "source": [
        "**checking for missing values**"
      ],
      "metadata": {
        "id": "q6R7_asS0Bxy"
      }
    },
    {
      "cell_type": "code",
      "source": [
        "df_original.isnull().sum()"
      ],
      "metadata": {
        "colab": {
          "base_uri": "https://localhost:8080/"
        },
        "id": "bz4WzvGC01mw",
        "outputId": "7da341ee-8f52-471d-fba6-b720d7b7b6d9"
      },
      "execution_count": 6,
      "outputs": [
        {
          "output_type": "execute_result",
          "data": {
            "text/plain": [
              "Administrative             0\n",
              "Administrative_Duration    0\n",
              "Informational              0\n",
              "Informational_Duration     0\n",
              "ProductRelated             0\n",
              "ProductRelated_Duration    0\n",
              "BounceRates                0\n",
              "ExitRates                  0\n",
              "PageValues                 0\n",
              "SpecialDay                 0\n",
              "Month                      0\n",
              "OperatingSystems           0\n",
              "Browser                    0\n",
              "Region                     0\n",
              "TrafficType                0\n",
              "VisitorType                0\n",
              "Weekend                    0\n",
              "Revenue                    0\n",
              "dtype: int64"
            ]
          },
          "metadata": {},
          "execution_count": 6
        }
      ]
    },
    {
      "cell_type": "markdown",
      "source": [
        " *   There are no missing values."
      ],
      "metadata": {
        "id": "AgmkBu52E3zj"
      }
    },
    {
      "cell_type": "markdown",
      "source": [
        "**Exploring the basic discriptive statistics of all attributes**"
      ],
      "metadata": {
        "id": "eg1RCIyO0T2O"
      }
    },
    {
      "cell_type": "code",
      "source": [
        "df_original.describe(include='all')"
      ],
      "metadata": {
        "colab": {
          "base_uri": "https://localhost:8080/",
          "height": 458
        },
        "id": "a7K4bCoSzTK0",
        "outputId": "40be6bb5-91a7-4973-9fff-9e3277738673"
      },
      "execution_count": 7,
      "outputs": [
        {
          "output_type": "execute_result",
          "data": {
            "text/plain": [
              "        Administrative  Administrative_Duration  Informational  \\\n",
              "count     12330.000000             12330.000000   12330.000000   \n",
              "unique             NaN                      NaN            NaN   \n",
              "top                NaN                      NaN            NaN   \n",
              "freq               NaN                      NaN            NaN   \n",
              "mean          2.315166                80.818611       0.503569   \n",
              "std           3.321784               176.779107       1.270156   \n",
              "min           0.000000                 0.000000       0.000000   \n",
              "25%           0.000000                 0.000000       0.000000   \n",
              "50%           1.000000                 7.500000       0.000000   \n",
              "75%           4.000000                93.256250       0.000000   \n",
              "max          27.000000              3398.750000      24.000000   \n",
              "\n",
              "        Informational_Duration  ProductRelated  ProductRelated_Duration  \\\n",
              "count             12330.000000    12330.000000             12330.000000   \n",
              "unique                     NaN             NaN                      NaN   \n",
              "top                        NaN             NaN                      NaN   \n",
              "freq                       NaN             NaN                      NaN   \n",
              "mean                 34.472398       31.731468              1194.746220   \n",
              "std                 140.749294       44.475503              1913.669288   \n",
              "min                   0.000000        0.000000                 0.000000   \n",
              "25%                   0.000000        7.000000               184.137500   \n",
              "50%                   0.000000       18.000000               598.936905   \n",
              "75%                   0.000000       38.000000              1464.157214   \n",
              "max                2549.375000      705.000000             63973.522230   \n",
              "\n",
              "         BounceRates     ExitRates    PageValues    SpecialDay  Month  \\\n",
              "count   12330.000000  12330.000000  12330.000000  12330.000000  12330   \n",
              "unique           NaN           NaN           NaN           NaN     10   \n",
              "top              NaN           NaN           NaN           NaN    May   \n",
              "freq             NaN           NaN           NaN           NaN   3364   \n",
              "mean        0.022191      0.043073      5.889258      0.061427    NaN   \n",
              "std         0.048488      0.048597     18.568437      0.198917    NaN   \n",
              "min         0.000000      0.000000      0.000000      0.000000    NaN   \n",
              "25%         0.000000      0.014286      0.000000      0.000000    NaN   \n",
              "50%         0.003112      0.025156      0.000000      0.000000    NaN   \n",
              "75%         0.016813      0.050000      0.000000      0.000000    NaN   \n",
              "max         0.200000      0.200000    361.763742      1.000000    NaN   \n",
              "\n",
              "        OperatingSystems       Browser        Region   TrafficType  \\\n",
              "count       12330.000000  12330.000000  12330.000000  12330.000000   \n",
              "unique               NaN           NaN           NaN           NaN   \n",
              "top                  NaN           NaN           NaN           NaN   \n",
              "freq                 NaN           NaN           NaN           NaN   \n",
              "mean            2.124006      2.357097      3.147364      4.069586   \n",
              "std             0.911325      1.717277      2.401591      4.025169   \n",
              "min             1.000000      1.000000      1.000000      1.000000   \n",
              "25%             2.000000      2.000000      1.000000      2.000000   \n",
              "50%             2.000000      2.000000      3.000000      2.000000   \n",
              "75%             3.000000      2.000000      4.000000      4.000000   \n",
              "max             8.000000     13.000000      9.000000     20.000000   \n",
              "\n",
              "              VisitorType Weekend Revenue  \n",
              "count               12330   12330   12330  \n",
              "unique                  3       2       2  \n",
              "top     Returning_Visitor   False   False  \n",
              "freq                10551    9462   10422  \n",
              "mean                  NaN     NaN     NaN  \n",
              "std                   NaN     NaN     NaN  \n",
              "min                   NaN     NaN     NaN  \n",
              "25%                   NaN     NaN     NaN  \n",
              "50%                   NaN     NaN     NaN  \n",
              "75%                   NaN     NaN     NaN  \n",
              "max                   NaN     NaN     NaN  "
            ],
            "text/html": [
              "\n",
              "  <div id=\"df-def3809f-b59a-4429-b144-8fdf5d3eb421\">\n",
              "    <div class=\"colab-df-container\">\n",
              "      <div>\n",
              "<style scoped>\n",
              "    .dataframe tbody tr th:only-of-type {\n",
              "        vertical-align: middle;\n",
              "    }\n",
              "\n",
              "    .dataframe tbody tr th {\n",
              "        vertical-align: top;\n",
              "    }\n",
              "\n",
              "    .dataframe thead th {\n",
              "        text-align: right;\n",
              "    }\n",
              "</style>\n",
              "<table border=\"1\" class=\"dataframe\">\n",
              "  <thead>\n",
              "    <tr style=\"text-align: right;\">\n",
              "      <th></th>\n",
              "      <th>Administrative</th>\n",
              "      <th>Administrative_Duration</th>\n",
              "      <th>Informational</th>\n",
              "      <th>Informational_Duration</th>\n",
              "      <th>ProductRelated</th>\n",
              "      <th>ProductRelated_Duration</th>\n",
              "      <th>BounceRates</th>\n",
              "      <th>ExitRates</th>\n",
              "      <th>PageValues</th>\n",
              "      <th>SpecialDay</th>\n",
              "      <th>Month</th>\n",
              "      <th>OperatingSystems</th>\n",
              "      <th>Browser</th>\n",
              "      <th>Region</th>\n",
              "      <th>TrafficType</th>\n",
              "      <th>VisitorType</th>\n",
              "      <th>Weekend</th>\n",
              "      <th>Revenue</th>\n",
              "    </tr>\n",
              "  </thead>\n",
              "  <tbody>\n",
              "    <tr>\n",
              "      <th>count</th>\n",
              "      <td>12330.000000</td>\n",
              "      <td>12330.000000</td>\n",
              "      <td>12330.000000</td>\n",
              "      <td>12330.000000</td>\n",
              "      <td>12330.000000</td>\n",
              "      <td>12330.000000</td>\n",
              "      <td>12330.000000</td>\n",
              "      <td>12330.000000</td>\n",
              "      <td>12330.000000</td>\n",
              "      <td>12330.000000</td>\n",
              "      <td>12330</td>\n",
              "      <td>12330.000000</td>\n",
              "      <td>12330.000000</td>\n",
              "      <td>12330.000000</td>\n",
              "      <td>12330.000000</td>\n",
              "      <td>12330</td>\n",
              "      <td>12330</td>\n",
              "      <td>12330</td>\n",
              "    </tr>\n",
              "    <tr>\n",
              "      <th>unique</th>\n",
              "      <td>NaN</td>\n",
              "      <td>NaN</td>\n",
              "      <td>NaN</td>\n",
              "      <td>NaN</td>\n",
              "      <td>NaN</td>\n",
              "      <td>NaN</td>\n",
              "      <td>NaN</td>\n",
              "      <td>NaN</td>\n",
              "      <td>NaN</td>\n",
              "      <td>NaN</td>\n",
              "      <td>10</td>\n",
              "      <td>NaN</td>\n",
              "      <td>NaN</td>\n",
              "      <td>NaN</td>\n",
              "      <td>NaN</td>\n",
              "      <td>3</td>\n",
              "      <td>2</td>\n",
              "      <td>2</td>\n",
              "    </tr>\n",
              "    <tr>\n",
              "      <th>top</th>\n",
              "      <td>NaN</td>\n",
              "      <td>NaN</td>\n",
              "      <td>NaN</td>\n",
              "      <td>NaN</td>\n",
              "      <td>NaN</td>\n",
              "      <td>NaN</td>\n",
              "      <td>NaN</td>\n",
              "      <td>NaN</td>\n",
              "      <td>NaN</td>\n",
              "      <td>NaN</td>\n",
              "      <td>May</td>\n",
              "      <td>NaN</td>\n",
              "      <td>NaN</td>\n",
              "      <td>NaN</td>\n",
              "      <td>NaN</td>\n",
              "      <td>Returning_Visitor</td>\n",
              "      <td>False</td>\n",
              "      <td>False</td>\n",
              "    </tr>\n",
              "    <tr>\n",
              "      <th>freq</th>\n",
              "      <td>NaN</td>\n",
              "      <td>NaN</td>\n",
              "      <td>NaN</td>\n",
              "      <td>NaN</td>\n",
              "      <td>NaN</td>\n",
              "      <td>NaN</td>\n",
              "      <td>NaN</td>\n",
              "      <td>NaN</td>\n",
              "      <td>NaN</td>\n",
              "      <td>NaN</td>\n",
              "      <td>3364</td>\n",
              "      <td>NaN</td>\n",
              "      <td>NaN</td>\n",
              "      <td>NaN</td>\n",
              "      <td>NaN</td>\n",
              "      <td>10551</td>\n",
              "      <td>9462</td>\n",
              "      <td>10422</td>\n",
              "    </tr>\n",
              "    <tr>\n",
              "      <th>mean</th>\n",
              "      <td>2.315166</td>\n",
              "      <td>80.818611</td>\n",
              "      <td>0.503569</td>\n",
              "      <td>34.472398</td>\n",
              "      <td>31.731468</td>\n",
              "      <td>1194.746220</td>\n",
              "      <td>0.022191</td>\n",
              "      <td>0.043073</td>\n",
              "      <td>5.889258</td>\n",
              "      <td>0.061427</td>\n",
              "      <td>NaN</td>\n",
              "      <td>2.124006</td>\n",
              "      <td>2.357097</td>\n",
              "      <td>3.147364</td>\n",
              "      <td>4.069586</td>\n",
              "      <td>NaN</td>\n",
              "      <td>NaN</td>\n",
              "      <td>NaN</td>\n",
              "    </tr>\n",
              "    <tr>\n",
              "      <th>std</th>\n",
              "      <td>3.321784</td>\n",
              "      <td>176.779107</td>\n",
              "      <td>1.270156</td>\n",
              "      <td>140.749294</td>\n",
              "      <td>44.475503</td>\n",
              "      <td>1913.669288</td>\n",
              "      <td>0.048488</td>\n",
              "      <td>0.048597</td>\n",
              "      <td>18.568437</td>\n",
              "      <td>0.198917</td>\n",
              "      <td>NaN</td>\n",
              "      <td>0.911325</td>\n",
              "      <td>1.717277</td>\n",
              "      <td>2.401591</td>\n",
              "      <td>4.025169</td>\n",
              "      <td>NaN</td>\n",
              "      <td>NaN</td>\n",
              "      <td>NaN</td>\n",
              "    </tr>\n",
              "    <tr>\n",
              "      <th>min</th>\n",
              "      <td>0.000000</td>\n",
              "      <td>0.000000</td>\n",
              "      <td>0.000000</td>\n",
              "      <td>0.000000</td>\n",
              "      <td>0.000000</td>\n",
              "      <td>0.000000</td>\n",
              "      <td>0.000000</td>\n",
              "      <td>0.000000</td>\n",
              "      <td>0.000000</td>\n",
              "      <td>0.000000</td>\n",
              "      <td>NaN</td>\n",
              "      <td>1.000000</td>\n",
              "      <td>1.000000</td>\n",
              "      <td>1.000000</td>\n",
              "      <td>1.000000</td>\n",
              "      <td>NaN</td>\n",
              "      <td>NaN</td>\n",
              "      <td>NaN</td>\n",
              "    </tr>\n",
              "    <tr>\n",
              "      <th>25%</th>\n",
              "      <td>0.000000</td>\n",
              "      <td>0.000000</td>\n",
              "      <td>0.000000</td>\n",
              "      <td>0.000000</td>\n",
              "      <td>7.000000</td>\n",
              "      <td>184.137500</td>\n",
              "      <td>0.000000</td>\n",
              "      <td>0.014286</td>\n",
              "      <td>0.000000</td>\n",
              "      <td>0.000000</td>\n",
              "      <td>NaN</td>\n",
              "      <td>2.000000</td>\n",
              "      <td>2.000000</td>\n",
              "      <td>1.000000</td>\n",
              "      <td>2.000000</td>\n",
              "      <td>NaN</td>\n",
              "      <td>NaN</td>\n",
              "      <td>NaN</td>\n",
              "    </tr>\n",
              "    <tr>\n",
              "      <th>50%</th>\n",
              "      <td>1.000000</td>\n",
              "      <td>7.500000</td>\n",
              "      <td>0.000000</td>\n",
              "      <td>0.000000</td>\n",
              "      <td>18.000000</td>\n",
              "      <td>598.936905</td>\n",
              "      <td>0.003112</td>\n",
              "      <td>0.025156</td>\n",
              "      <td>0.000000</td>\n",
              "      <td>0.000000</td>\n",
              "      <td>NaN</td>\n",
              "      <td>2.000000</td>\n",
              "      <td>2.000000</td>\n",
              "      <td>3.000000</td>\n",
              "      <td>2.000000</td>\n",
              "      <td>NaN</td>\n",
              "      <td>NaN</td>\n",
              "      <td>NaN</td>\n",
              "    </tr>\n",
              "    <tr>\n",
              "      <th>75%</th>\n",
              "      <td>4.000000</td>\n",
              "      <td>93.256250</td>\n",
              "      <td>0.000000</td>\n",
              "      <td>0.000000</td>\n",
              "      <td>38.000000</td>\n",
              "      <td>1464.157214</td>\n",
              "      <td>0.016813</td>\n",
              "      <td>0.050000</td>\n",
              "      <td>0.000000</td>\n",
              "      <td>0.000000</td>\n",
              "      <td>NaN</td>\n",
              "      <td>3.000000</td>\n",
              "      <td>2.000000</td>\n",
              "      <td>4.000000</td>\n",
              "      <td>4.000000</td>\n",
              "      <td>NaN</td>\n",
              "      <td>NaN</td>\n",
              "      <td>NaN</td>\n",
              "    </tr>\n",
              "    <tr>\n",
              "      <th>max</th>\n",
              "      <td>27.000000</td>\n",
              "      <td>3398.750000</td>\n",
              "      <td>24.000000</td>\n",
              "      <td>2549.375000</td>\n",
              "      <td>705.000000</td>\n",
              "      <td>63973.522230</td>\n",
              "      <td>0.200000</td>\n",
              "      <td>0.200000</td>\n",
              "      <td>361.763742</td>\n",
              "      <td>1.000000</td>\n",
              "      <td>NaN</td>\n",
              "      <td>8.000000</td>\n",
              "      <td>13.000000</td>\n",
              "      <td>9.000000</td>\n",
              "      <td>20.000000</td>\n",
              "      <td>NaN</td>\n",
              "      <td>NaN</td>\n",
              "      <td>NaN</td>\n",
              "    </tr>\n",
              "  </tbody>\n",
              "</table>\n",
              "</div>\n",
              "      <button class=\"colab-df-convert\" onclick=\"convertToInteractive('df-def3809f-b59a-4429-b144-8fdf5d3eb421')\"\n",
              "              title=\"Convert this dataframe to an interactive table.\"\n",
              "              style=\"display:none;\">\n",
              "        \n",
              "  <svg xmlns=\"http://www.w3.org/2000/svg\" height=\"24px\"viewBox=\"0 0 24 24\"\n",
              "       width=\"24px\">\n",
              "    <path d=\"M0 0h24v24H0V0z\" fill=\"none\"/>\n",
              "    <path d=\"M18.56 5.44l.94 2.06.94-2.06 2.06-.94-2.06-.94-.94-2.06-.94 2.06-2.06.94zm-11 1L8.5 8.5l.94-2.06 2.06-.94-2.06-.94L8.5 2.5l-.94 2.06-2.06.94zm10 10l.94 2.06.94-2.06 2.06-.94-2.06-.94-.94-2.06-.94 2.06-2.06.94z\"/><path d=\"M17.41 7.96l-1.37-1.37c-.4-.4-.92-.59-1.43-.59-.52 0-1.04.2-1.43.59L10.3 9.45l-7.72 7.72c-.78.78-.78 2.05 0 2.83L4 21.41c.39.39.9.59 1.41.59.51 0 1.02-.2 1.41-.59l7.78-7.78 2.81-2.81c.8-.78.8-2.07 0-2.86zM5.41 20L4 18.59l7.72-7.72 1.47 1.35L5.41 20z\"/>\n",
              "  </svg>\n",
              "      </button>\n",
              "      \n",
              "  <style>\n",
              "    .colab-df-container {\n",
              "      display:flex;\n",
              "      flex-wrap:wrap;\n",
              "      gap: 12px;\n",
              "    }\n",
              "\n",
              "    .colab-df-convert {\n",
              "      background-color: #E8F0FE;\n",
              "      border: none;\n",
              "      border-radius: 50%;\n",
              "      cursor: pointer;\n",
              "      display: none;\n",
              "      fill: #1967D2;\n",
              "      height: 32px;\n",
              "      padding: 0 0 0 0;\n",
              "      width: 32px;\n",
              "    }\n",
              "\n",
              "    .colab-df-convert:hover {\n",
              "      background-color: #E2EBFA;\n",
              "      box-shadow: 0px 1px 2px rgba(60, 64, 67, 0.3), 0px 1px 3px 1px rgba(60, 64, 67, 0.15);\n",
              "      fill: #174EA6;\n",
              "    }\n",
              "\n",
              "    [theme=dark] .colab-df-convert {\n",
              "      background-color: #3B4455;\n",
              "      fill: #D2E3FC;\n",
              "    }\n",
              "\n",
              "    [theme=dark] .colab-df-convert:hover {\n",
              "      background-color: #434B5C;\n",
              "      box-shadow: 0px 1px 3px 1px rgba(0, 0, 0, 0.15);\n",
              "      filter: drop-shadow(0px 1px 2px rgba(0, 0, 0, 0.3));\n",
              "      fill: #FFFFFF;\n",
              "    }\n",
              "  </style>\n",
              "\n",
              "      <script>\n",
              "        const buttonEl =\n",
              "          document.querySelector('#df-def3809f-b59a-4429-b144-8fdf5d3eb421 button.colab-df-convert');\n",
              "        buttonEl.style.display =\n",
              "          google.colab.kernel.accessAllowed ? 'block' : 'none';\n",
              "\n",
              "        async function convertToInteractive(key) {\n",
              "          const element = document.querySelector('#df-def3809f-b59a-4429-b144-8fdf5d3eb421');\n",
              "          const dataTable =\n",
              "            await google.colab.kernel.invokeFunction('convertToInteractive',\n",
              "                                                     [key], {});\n",
              "          if (!dataTable) return;\n",
              "\n",
              "          const docLinkHtml = 'Like what you see? Visit the ' +\n",
              "            '<a target=\"_blank\" href=https://colab.research.google.com/notebooks/data_table.ipynb>data table notebook</a>'\n",
              "            + ' to learn more about interactive tables.';\n",
              "          element.innerHTML = '';\n",
              "          dataTable['output_type'] = 'display_data';\n",
              "          await google.colab.output.renderOutput(dataTable, element);\n",
              "          const docLink = document.createElement('div');\n",
              "          docLink.innerHTML = docLinkHtml;\n",
              "          element.appendChild(docLink);\n",
              "        }\n",
              "      </script>\n",
              "    </div>\n",
              "  </div>\n",
              "  "
            ]
          },
          "metadata": {},
          "execution_count": 7
        }
      ]
    },
    {
      "cell_type": "markdown",
      "source": [
        "*   only 4 attributes are not numerical types. We may need to convert them to numerical before the modelling.\n",
        "\n"
      ],
      "metadata": {
        "id": "HFlxtkx376Ul"
      }
    },
    {
      "cell_type": "markdown",
      "source": [
        "**Looking at number of unique values in each attribute. This is particularly useful information for categorical variables**"
      ],
      "metadata": {
        "id": "vKAyqktu6cLl"
      }
    },
    {
      "cell_type": "code",
      "source": [
        "df_original.nunique()"
      ],
      "metadata": {
        "colab": {
          "base_uri": "https://localhost:8080/"
        },
        "id": "S896ZC_D6myd",
        "outputId": "4c8348da-da81-4b3c-8b49-6e7bb5c0f31f"
      },
      "execution_count": 8,
      "outputs": [
        {
          "output_type": "execute_result",
          "data": {
            "text/plain": [
              "Administrative               27\n",
              "Administrative_Duration    3335\n",
              "Informational                17\n",
              "Informational_Duration     1258\n",
              "ProductRelated              311\n",
              "ProductRelated_Duration    9551\n",
              "BounceRates                1872\n",
              "ExitRates                  4777\n",
              "PageValues                 2704\n",
              "SpecialDay                    6\n",
              "Month                        10\n",
              "OperatingSystems              8\n",
              "Browser                      13\n",
              "Region                        9\n",
              "TrafficType                  20\n",
              "VisitorType                   3\n",
              "Weekend                       2\n",
              "Revenue                       2\n",
              "dtype: int64"
            ]
          },
          "metadata": {},
          "execution_count": 8
        }
      ]
    },
    {
      "cell_type": "markdown",
      "source": [
        "*   As per definistions of the attributes, the last 8 attributes are categorical."
      ],
      "metadata": {
        "id": "2iT-Dxg68XC_"
      }
    },
    {
      "cell_type": "markdown",
      "source": [
        "-------------------------------------\n",
        "# **EDA for Categorical Variables** \n",
        "-------------------------------------"
      ],
      "metadata": {
        "id": "ibuteUJS_xkX"
      }
    },
    {
      "cell_type": "markdown",
      "source": [
        "**Checking the Label Class (Dependent variable): \"Revenue\"**"
      ],
      "metadata": {
        "id": "VtRysayjHDbw"
      }
    },
    {
      "cell_type": "code",
      "source": [
        "df_original.Revenue.value_counts()"
      ],
      "metadata": {
        "colab": {
          "base_uri": "https://localhost:8080/"
        },
        "id": "8vByMuKpHQAE",
        "outputId": "0df64932-4ad4-43a0-d1c6-7438cea1bcec"
      },
      "execution_count": 9,
      "outputs": [
        {
          "output_type": "execute_result",
          "data": {
            "text/plain": [
              "False    10422\n",
              "True      1908\n",
              "Name: Revenue, dtype: int64"
            ]
          },
          "metadata": {},
          "execution_count": 9
        }
      ]
    },
    {
      "cell_type": "markdown",
      "source": [
        "*   As we can see only 1908 sessions resulted in purchase and 10422 sessions did not.\n",
        "\n",
        "**Visualizing \"Revenue\" column with percentage of each class: True/False.** "
      ],
      "metadata": {
        "id": "okg9O0s3He9l"
      }
    },
    {
      "cell_type": "code",
      "source": [
        "import matplotlib.pyplot as plt\n",
        "\n",
        "#calculating the Ture and False Percentage in \"Revenue\" column\n",
        "F_percentage= round((10422/len(df_original[\"Revenue\"])*100),2)\n",
        "T_percentage= round((1908/len(df_original[\"Revenue\"]))*100,2)\n",
        "\n",
        "#creating a dictionary from the Ture and False Percentage in \"Revenue\" column\n",
        "Revenue_Class = {\"False\": F_percentage, \"True\":T_percentage}\n",
        "\n",
        "#Defining X & Y for the chart\n",
        "x= list(Revenue_Class.keys())\n",
        "y= list(Revenue_Class.values())\n",
        "fig = plt.figure()\n",
        "\n",
        "#Defining the chart type and color \n",
        "p1=plt.bar(x, y, color ='Green')\n",
        "\n",
        "#Setting the chart and axis labels\n",
        "plt.xlabel(\"Revenue Class\")\n",
        "plt.ylabel(\"Percentage (%)\")\n",
        "plt.title(\"Percentage of each Revenue Class\")\n",
        "\n",
        "#Adding the data lebels on top of each bar\n",
        "for p in p1:\n",
        "   height = p.get_height()\n",
        "   plt.text(x=p.get_x() + p.get_width() / 2, y=height+.10,\n",
        "      s=\"{}%\".format(height),\n",
        "      ha='center')\n",
        "#Printing the chart   \n",
        "plt.show()\n"
      ],
      "metadata": {
        "colab": {
          "base_uri": "https://localhost:8080/",
          "height": 295
        },
        "id": "sZ7dcjG7H3S2",
        "outputId": "efb18075-210e-40a1-d45d-09c8aaaed953"
      },
      "execution_count": 10,
      "outputs": [
        {
          "output_type": "display_data",
          "data": {
            "text/plain": [
              "<Figure size 432x288 with 1 Axes>"
            ],
            "image/png": "[encoded data removed]"
          },
          "metadata": {
            "needs_background": "light"
          }
        }
      ]
    },
    {
      "cell_type": "markdown",
      "source": [
        "*   The data is clealy imbalanced."
      ],
      "metadata": {
        "id": "u1CohXzYpX8_"
      }
    },
    {
      "cell_type": "markdown",
      "source": [
        "**Checking the categories in \"Weekend\" attribute**"
      ],
      "metadata": {
        "id": "Z-aryKvdDeXY"
      }
    },
    {
      "cell_type": "code",
      "source": [
        "df_wk =DataFrame (df_original.Weekend.value_counts())\n",
        "df_wk"
      ],
      "metadata": {
        "colab": {
          "base_uri": "https://localhost:8080/",
          "height": 112
        },
        "id": "RzXXARGfDifD",
        "outputId": "eb3bdf1b-64cd-428f-a0c9-98fc539cc012"
      },
      "execution_count": 11,
      "outputs": [
        {
          "output_type": "execute_result",
          "data": {
            "text/plain": [
              "       Weekend\n",
              "False     9462\n",
              "True      2868"
            ],
            "text/html": [
              "\n",
              "  <div id=\"df-ad4e0b0b-2440-4334-9eba-8ac63ac56962\">\n",
              "    <div class=\"colab-df-container\">\n",
              "      <div>\n",
              "<style scoped>\n",
              "    .dataframe tbody tr th:only-of-type {\n",
              "        vertical-align: middle;\n",
              "    }\n",
              "\n",
              "    .dataframe tbody tr th {\n",
              "        vertical-align: top;\n",
              "    }\n",
              "\n",
              "    .dataframe thead th {\n",
              "        text-align: right;\n",
              "    }\n",
              "</style>\n",
              "<table border=\"1\" class=\"dataframe\">\n",
              "  <thead>\n",
              "    <tr style=\"text-align: right;\">\n",
              "      <th></th>\n",
              "      <th>Weekend</th>\n",
              "    </tr>\n",
              "  </thead>\n",
              "  <tbody>\n",
              "    <tr>\n",
              "      <th>False</th>\n",
              "      <td>9462</td>\n",
              "    </tr>\n",
              "    <tr>\n",
              "      <th>True</th>\n",
              "      <td>2868</td>\n",
              "    </tr>\n",
              "  </tbody>\n",
              "</table>\n",
              "</div>\n",
              "      <button class=\"colab-df-convert\" onclick=\"convertToInteractive('df-ad4e0b0b-2440-4334-9eba-8ac63ac56962')\"\n",
              "              title=\"Convert this dataframe to an interactive table.\"\n",
              "              style=\"display:none;\">\n",
              "        \n",
              "  <svg xmlns=\"http://www.w3.org/2000/svg\" height=\"24px\"viewBox=\"0 0 24 24\"\n",
              "       width=\"24px\">\n",
              "    <path d=\"M0 0h24v24H0V0z\" fill=\"none\"/>\n",
              "    <path d=\"M18.56 5.44l.94 2.06.94-2.06 2.06-.94-2.06-.94-.94-2.06-.94 2.06-2.06.94zm-11 1L8.5 8.5l.94-2.06 2.06-.94-2.06-.94L8.5 2.5l-.94 2.06-2.06.94zm10 10l.94 2.06.94-2.06 2.06-.94-2.06-.94-.94-2.06-.94 2.06-2.06.94z\"/><path d=\"M17.41 7.96l-1.37-1.37c-.4-.4-.92-.59-1.43-.59-.52 0-1.04.2-1.43.59L10.3 9.45l-7.72 7.72c-.78.78-.78 2.05 0 2.83L4 21.41c.39.39.9.59 1.41.59.51 0 1.02-.2 1.41-.59l7.78-7.78 2.81-2.81c.8-.78.8-2.07 0-2.86zM5.41 20L4 18.59l7.72-7.72 1.47 1.35L5.41 20z\"/>\n",
              "  </svg>\n",
              "      </button>\n",
              "      \n",
              "  <style>\n",
              "    .colab-df-container {\n",
              "      display:flex;\n",
              "      flex-wrap:wrap;\n",
              "      gap: 12px;\n",
              "    }\n",
              "\n",
              "    .colab-df-convert {\n",
              "      background-color: #E8F0FE;\n",
              "      border: none;\n",
              "      border-radius: 50%;\n",
              "      cursor: pointer;\n",
              "      display: none;\n",
              "      fill: #1967D2;\n",
              "      height: 32px;\n",
              "      padding: 0 0 0 0;\n",
              "      width: 32px;\n",
              "    }\n",
              "\n",
              "    .colab-df-convert:hover {\n",
              "      background-color: #E2EBFA;\n",
              "      box-shadow: 0px 1px 2px rgba(60, 64, 67, 0.3), 0px 1px 3px 1px rgba(60, 64, 67, 0.15);\n",
              "      fill: #174EA6;\n",
              "    }\n",
              "\n",
              "    [theme=dark] .colab-df-convert {\n",
              "      background-color: #3B4455;\n",
              "      fill: #D2E3FC;\n",
              "    }\n",
              "\n",
              "    [theme=dark] .colab-df-convert:hover {\n",
              "      background-color: #434B5C;\n",
              "      box-shadow: 0px 1px 3px 1px rgba(0, 0, 0, 0.15);\n",
              "      filter: drop-shadow(0px 1px 2px rgba(0, 0, 0, 0.3));\n",
              "      fill: #FFFFFF;\n",
              "    }\n",
              "  </style>\n",
              "\n",
              "      <script>\n",
              "        const buttonEl =\n",
              "          document.querySelector('#df-ad4e0b0b-2440-4334-9eba-8ac63ac56962 button.colab-df-convert');\n",
              "        buttonEl.style.display =\n",
              "          google.colab.kernel.accessAllowed ? 'block' : 'none';\n",
              "\n",
              "        async function convertToInteractive(key) {\n",
              "          const element = document.querySelector('#df-ad4e0b0b-2440-4334-9eba-8ac63ac56962');\n",
              "          const dataTable =\n",
              "            await google.colab.kernel.invokeFunction('convertToInteractive',\n",
              "                                                     [key], {});\n",
              "          if (!dataTable) return;\n",
              "\n",
              "          const docLinkHtml = 'Like what you see? Visit the ' +\n",
              "            '<a target=\"_blank\" href=https://colab.research.google.com/notebooks/data_table.ipynb>data table notebook</a>'\n",
              "            + ' to learn more about interactive tables.';\n",
              "          element.innerHTML = '';\n",
              "          dataTable['output_type'] = 'display_data';\n",
              "          await google.colab.output.renderOutput(dataTable, element);\n",
              "          const docLink = document.createElement('div');\n",
              "          docLink.innerHTML = docLinkHtml;\n",
              "          element.appendChild(docLink);\n",
              "        }\n",
              "      </script>\n",
              "    </div>\n",
              "  </div>\n",
              "  "
            ]
          },
          "metadata": {},
          "execution_count": 11
        }
      ]
    },
    {
      "cell_type": "markdown",
      "source": [
        "*   The weekday have higher total number of visits as there are 5 days that are considered a weekday, and only 2 days on a weekend. To explore this attribute further we must look into the avergae number of visits per day of the week:"
      ],
      "metadata": {
        "id": "zZi43uKZDrM-"
      }
    },
    {
      "cell_type": "code",
      "source": [
        "#calculating the average per day of the week\n",
        "Weekday_Avg = df_wk[\"Weekend\"][0]/5\n",
        "Weekend_Avg = df_wk[\"Weekend\"][1]/2\n",
        "\n",
        "#creating a dataframe for ease of readibility \n",
        "DataFrame([Weekday_Avg, Weekend_Avg],[\"Weekday_Avg\", \"Weekend_Avg\"])"
      ],
      "metadata": {
        "colab": {
          "base_uri": "https://localhost:8080/",
          "height": 112
        },
        "id": "2vYmMVvsEl8h",
        "outputId": "1548f467-9d35-4d1d-a216-43cd04b57bcd"
      },
      "execution_count": 12,
      "outputs": [
        {
          "output_type": "execute_result",
          "data": {
            "text/plain": [
              "                  0\n",
              "Weekday_Avg  1892.4\n",
              "Weekend_Avg  1434.0"
            ],
            "text/html": [
              "\n",
              "  <div id=\"df-a13240db-aaef-40be-bafa-3a285daa4a18\">\n",
              "    <div class=\"colab-df-container\">\n",
              "      <div>\n",
              "<style scoped>\n",
              "    .dataframe tbody tr th:only-of-type {\n",
              "        vertical-align: middle;\n",
              "    }\n",
              "\n",
              "    .dataframe tbody tr th {\n",
              "        vertical-align: top;\n",
              "    }\n",
              "\n",
              "    .dataframe thead th {\n",
              "        text-align: right;\n",
              "    }\n",
              "</style>\n",
              "<table border=\"1\" class=\"dataframe\">\n",
              "  <thead>\n",
              "    <tr style=\"text-align: right;\">\n",
              "      <th></th>\n",
              "      <th>0</th>\n",
              "    </tr>\n",
              "  </thead>\n",
              "  <tbody>\n",
              "    <tr>\n",
              "      <th>Weekday_Avg</th>\n",
              "      <td>1892.4</td>\n",
              "    </tr>\n",
              "    <tr>\n",
              "      <th>Weekend_Avg</th>\n",
              "      <td>1434.0</td>\n",
              "    </tr>\n",
              "  </tbody>\n",
              "</table>\n",
              "</div>\n",
              "      <button class=\"colab-df-convert\" onclick=\"convertToInteractive('df-a13240db-aaef-40be-bafa-3a285daa4a18')\"\n",
              "              title=\"Convert this dataframe to an interactive table.\"\n",
              "              style=\"display:none;\">\n",
              "        \n",
              "  <svg xmlns=\"http://www.w3.org/2000/svg\" height=\"24px\"viewBox=\"0 0 24 24\"\n",
              "       width=\"24px\">\n",
              "    <path d=\"M0 0h24v24H0V0z\" fill=\"none\"/>\n",
              "    <path d=\"M18.56 5.44l.94 2.06.94-2.06 2.06-.94-2.06-.94-.94-2.06-.94 2.06-2.06.94zm-11 1L8.5 8.5l.94-2.06 2.06-.94-2.06-.94L8.5 2.5l-.94 2.06-2.06.94zm10 10l.94 2.06.94-2.06 2.06-.94-2.06-.94-.94-2.06-.94 2.06-2.06.94z\"/><path d=\"M17.41 7.96l-1.37-1.37c-.4-.4-.92-.59-1.43-.59-.52 0-1.04.2-1.43.59L10.3 9.45l-7.72 7.72c-.78.78-.78 2.05 0 2.83L4 21.41c.39.39.9.59 1.41.59.51 0 1.02-.2 1.41-.59l7.78-7.78 2.81-2.81c.8-.78.8-2.07 0-2.86zM5.41 20L4 18.59l7.72-7.72 1.47 1.35L5.41 20z\"/>\n",
              "  </svg>\n",
              "      </button>\n",
              "      \n",
              "  <style>\n",
              "    .colab-df-container {\n",
              "      display:flex;\n",
              "      flex-wrap:wrap;\n",
              "      gap: 12px;\n",
              "    }\n",
              "\n",
              "    .colab-df-convert {\n",
              "      background-color: #E8F0FE;\n",
              "      border: none;\n",
              "      border-radius: 50%;\n",
              "      cursor: pointer;\n",
              "      display: none;\n",
              "      fill: #1967D2;\n",
              "      height: 32px;\n",
              "      padding: 0 0 0 0;\n",
              "      width: 32px;\n",
              "    }\n",
              "\n",
              "    .colab-df-convert:hover {\n",
              "      background-color: #E2EBFA;\n",
              "      box-shadow: 0px 1px 2px rgba(60, 64, 67, 0.3), 0px 1px 3px 1px rgba(60, 64, 67, 0.15);\n",
              "      fill: #174EA6;\n",
              "    }\n",
              "\n",
              "    [theme=dark] .colab-df-convert {\n",
              "      background-color: #3B4455;\n",
              "      fill: #D2E3FC;\n",
              "    }\n",
              "\n",
              "    [theme=dark] .colab-df-convert:hover {\n",
              "      background-color: #434B5C;\n",
              "      box-shadow: 0px 1px 3px 1px rgba(0, 0, 0, 0.15);\n",
              "      filter: drop-shadow(0px 1px 2px rgba(0, 0, 0, 0.3));\n",
              "      fill: #FFFFFF;\n",
              "    }\n",
              "  </style>\n",
              "\n",
              "      <script>\n",
              "        const buttonEl =\n",
              "          document.querySelector('#df-a13240db-aaef-40be-bafa-3a285daa4a18 button.colab-df-convert');\n",
              "        buttonEl.style.display =\n",
              "          google.colab.kernel.accessAllowed ? 'block' : 'none';\n",
              "\n",
              "        async function convertToInteractive(key) {\n",
              "          const element = document.querySelector('#df-a13240db-aaef-40be-bafa-3a285daa4a18');\n",
              "          const dataTable =\n",
              "            await google.colab.kernel.invokeFunction('convertToInteractive',\n",
              "                                                     [key], {});\n",
              "          if (!dataTable) return;\n",
              "\n",
              "          const docLinkHtml = 'Like what you see? Visit the ' +\n",
              "            '<a target=\"_blank\" href=https://colab.research.google.com/notebooks/data_table.ipynb>data table notebook</a>'\n",
              "            + ' to learn more about interactive tables.';\n",
              "          element.innerHTML = '';\n",
              "          dataTable['output_type'] = 'display_data';\n",
              "          await google.colab.output.renderOutput(dataTable, element);\n",
              "          const docLink = document.createElement('div');\n",
              "          docLink.innerHTML = docLinkHtml;\n",
              "          element.appendChild(docLink);\n",
              "        }\n",
              "      </script>\n",
              "    </div>\n",
              "  </div>\n",
              "  "
            ]
          },
          "metadata": {},
          "execution_count": 12
        }
      ]
    },
    {
      "cell_type": "markdown",
      "source": [
        "*   Surprisingly the average number of visits on a weekday is higher than a weekend day!!!"
      ],
      "metadata": {
        "id": "3QyjaVkfKmBI"
      }
    },
    {
      "cell_type": "markdown",
      "source": [
        "**Checking the categories in \"VisitorType\" attribute**"
      ],
      "metadata": {
        "id": "qdYqTs-w7Ewv"
      }
    },
    {
      "cell_type": "code",
      "source": [
        "df_original.VisitorType.value_counts()"
      ],
      "metadata": {
        "colab": {
          "base_uri": "https://localhost:8080/"
        },
        "id": "L3Bg1kTbwZ4w",
        "outputId": "228f125f-7f1f-4167-ec8a-9fdfc1291d6d"
      },
      "execution_count": 13,
      "outputs": [
        {
          "output_type": "execute_result",
          "data": {
            "text/plain": [
              "Returning_Visitor    10551\n",
              "New_Visitor           1694\n",
              "Other                   85\n",
              "Name: VisitorType, dtype: int64"
            ]
          },
          "metadata": {},
          "execution_count": 13
        }
      ]
    },
    {
      "cell_type": "markdown",
      "source": [
        "**Visualizing \"VisitorType\" Categories**"
      ],
      "metadata": {
        "id": "7kdZcJd-83cL"
      }
    },
    {
      "cell_type": "code",
      "source": [
        "from enum import unique\n",
        "\n",
        "#creating the data for the chart\n",
        "p3=DataFrame (df_original.VisitorType.value_counts())\n",
        "x= p3[\"VisitorType\"]\n",
        "\n",
        "#creating the labels for the chart\n",
        "label= df_original.VisitorType.unique()\n",
        "\n",
        "#selecting the colors\n",
        "color_list=[\"pink\", \"palevioletred\", \"mediumvioletred\"]\n",
        "\n",
        "#setting the chart title\n",
        "plt.title(\"Percentage of each Visitor Type\", pad=30, fontsize=16, color=\"purple\") \n",
        "\n",
        "#creating the chart\n",
        "plt.pie(x, labels= label, colors= color_list, shadow=True, \n",
        "        rotatelabels=True, autopct='%1.1f%%', pctdistance= 0.82,\n",
        "        radius= 1.2 );\n"
      ],
      "metadata": {
        "id": "f0erHaK09ZS3",
        "colab": {
          "base_uri": "https://localhost:8080/",
          "height": 290
        },
        "outputId": "9fcac2ac-6146-4cab-818a-072105722dc1"
      },
      "execution_count": 14,
      "outputs": [
        {
          "output_type": "display_data",
          "data": {
            "text/plain": [
              "<Figure size 432x288 with 1 Axes>"
            ],
            "image/png": "[encoded data removed]"
          },
          "metadata": {}
        }
      ]
    },
    {
      "cell_type": "markdown",
      "source": [
        "* The majority of the visitors are a \"returning_Visitor\" which is a positive note for the company. "
      ],
      "metadata": {
        "id": "jqhxVa78CiF6"
      }
    },
    {
      "cell_type": "markdown",
      "source": [
        "**Checking the \"TrafficType\" categories**"
      ],
      "metadata": {
        "id": "V39bS8rKC6xI"
      }
    },
    {
      "cell_type": "code",
      "source": [
        "df_original.TrafficType.value_counts()"
      ],
      "metadata": {
        "colab": {
          "base_uri": "https://localhost:8080/"
        },
        "id": "AUyGdfOhMr2b",
        "outputId": "561b6b76-b589-4127-a82d-9ab94a9e2141"
      },
      "execution_count": 15,
      "outputs": [
        {
          "output_type": "execute_result",
          "data": {
            "text/plain": [
              "2     3913\n",
              "1     2451\n",
              "3     2052\n",
              "4     1069\n",
              "13     738\n",
              "10     450\n",
              "6      444\n",
              "8      343\n",
              "5      260\n",
              "11     247\n",
              "20     198\n",
              "9       42\n",
              "7       40\n",
              "15      38\n",
              "19      17\n",
              "14      13\n",
              "18      10\n",
              "16       3\n",
              "12       1\n",
              "17       1\n",
              "Name: TrafficType, dtype: int64"
            ]
          },
          "metadata": {},
          "execution_count": 15
        }
      ]
    },
    {
      "cell_type": "markdown",
      "source": [
        "**Visualizing the \"TrafficType\" categories**"
      ],
      "metadata": {
        "id": "7OG3jZSxRFyI"
      }
    },
    {
      "cell_type": "code",
      "source": [
        "#creating the chart and customizing the color\n",
        "df_original.TrafficType.value_counts().plot(kind=\"bar\", color=\"r\")\n",
        "\n",
        "#setting the chart and axis labels\n",
        "plt.xlabel(\"Traffic Type\", fontsize=12)\n",
        "plt.ylabel(\"Count of sessions\", fontsize=12)\n",
        "plt.title(\"Count of each Traffic Type\", fontsize=14);"
      ],
      "metadata": {
        "colab": {
          "base_uri": "https://localhost:8080/",
          "height": 302
        },
        "id": "qor35C25RRO1",
        "outputId": "0bb393ce-bf12-4607-cb9b-361414a453ca"
      },
      "execution_count": 16,
      "outputs": [
        {
          "output_type": "display_data",
          "data": {
            "text/plain": [
              "<Figure size 432x288 with 1 Axes>"
            ],
            "image/png": "[encoded data removed]"
          },
          "metadata": {
            "needs_background": "light"
          }
        }
      ]
    },
    {
      "cell_type": "markdown",
      "source": [
        "**Checking the categories of \"Region\"**"
      ],
      "metadata": {
        "id": "zqYYwQ-ThKFK"
      }
    },
    {
      "cell_type": "code",
      "source": [
        "df_original.Region.value_counts()"
      ],
      "metadata": {
        "colab": {
          "base_uri": "https://localhost:8080/"
        },
        "id": "4oG51oDdhXqP",
        "outputId": "68a852b3-d8cc-4ecf-8571-157a7d7b4250"
      },
      "execution_count": 17,
      "outputs": [
        {
          "output_type": "execute_result",
          "data": {
            "text/plain": [
              "1    4780\n",
              "3    2403\n",
              "4    1182\n",
              "2    1136\n",
              "6     805\n",
              "7     761\n",
              "9     511\n",
              "8     434\n",
              "5     318\n",
              "Name: Region, dtype: int64"
            ]
          },
          "metadata": {},
          "execution_count": 17
        }
      ]
    },
    {
      "cell_type": "markdown",
      "source": [
        "**Visulaizing the categories of \"Region\"**"
      ],
      "metadata": {
        "id": "c7YsR5WehpnP"
      }
    },
    {
      "cell_type": "code",
      "source": [
        "import seaborn as sns\n",
        "\n",
        "#setting the colors and size of the chart area\n",
        "plt.figure(figsize = (10,8))\n",
        "sns.set_palette(\"YlOrBr\", 9)\n",
        "\n",
        "#creating the chart\n",
        "r=sns.countplot(data=df_original, x='Region', order=df_original.Region.value_counts().index)\n",
        "\n",
        "#setting the chart and axis labels\n",
        "plt.xlabel(\"Region\", fontsize=12)\n",
        "plt.ylabel(\"Count of sessions\", fontsize=12)\n",
        "plt.title(\"Count and percentage of each Region\", fontsize=14)\n",
        "\n",
        "#adding percentage labels\n",
        "for p in r.patches:\n",
        "    percentage = '{:.1f}%'.format(100 * p.get_height()/len(df_original[\"Region\"]))\n",
        "    x = p.get_x() + p.get_width()\n",
        "    y = p.get_height()\n",
        "    r.annotate(percentage, (x, y),ha='right');\n"
      ],
      "metadata": {
        "colab": {
          "base_uri": "https://localhost:8080/",
          "height": 517
        },
        "id": "60jJOpcvjpmi",
        "outputId": "fdc9aa87-c765-4894-8cbe-8fb9f8dddb20"
      },
      "execution_count": 18,
      "outputs": [
        {
          "output_type": "display_data",
          "data": {
            "text/plain": [
              "<Figure size 720x576 with 1 Axes>"
            ],
            "image/png": "[encoded data removed]"
          },
          "metadata": {
            "needs_background": "light"
          }
        }
      ]
    },
    {
      "cell_type": "markdown",
      "source": [
        "* Region 1 seems to have siginificantly higher visitors than others."
      ],
      "metadata": {
        "id": "PHBrDwZrr7iq"
      }
    },
    {
      "cell_type": "markdown",
      "source": [
        "**Checking the count of \"Browser\" types of the visitors**"
      ],
      "metadata": {
        "id": "bQjX1B3B14u2"
      }
    },
    {
      "cell_type": "code",
      "source": [
        "df_original.Browser.value_counts()"
      ],
      "metadata": {
        "colab": {
          "base_uri": "https://localhost:8080/"
        },
        "id": "kHutYxjHsE5x",
        "outputId": "601fefac-1d71-4032-d58c-54c371f9e4da"
      },
      "execution_count": 19,
      "outputs": [
        {
          "output_type": "execute_result",
          "data": {
            "text/plain": [
              "2     7961\n",
              "1     2462\n",
              "4      736\n",
              "5      467\n",
              "6      174\n",
              "10     163\n",
              "8      135\n",
              "3      105\n",
              "13      61\n",
              "7       49\n",
              "12      10\n",
              "11       6\n",
              "9        1\n",
              "Name: Browser, dtype: int64"
            ]
          },
          "metadata": {},
          "execution_count": 19
        }
      ]
    },
    {
      "cell_type": "markdown",
      "source": [
        "**Plotting all of the \"Browser\" categories count**"
      ],
      "metadata": {
        "id": "TjN4fIux2Re9"
      }
    },
    {
      "cell_type": "code",
      "source": [
        "df_original.Browser.value_counts().plot(kind=\"bar\", color=\"darkgoldenrod\", title=\"Count of Visitor's Browser Type\",\n",
        "                                        xlabel= \"Browser Type\", ylabel=\"Count of sessions\");"
      ],
      "metadata": {
        "colab": {
          "base_uri": "https://localhost:8080/",
          "height": 298
        },
        "id": "hI2XaBxH2cF4",
        "outputId": "cadd9d97-040c-4744-8c88-2d85ebee8416"
      },
      "execution_count": 20,
      "outputs": [
        {
          "output_type": "display_data",
          "data": {
            "text/plain": [
              "<Figure size 432x288 with 1 Axes>"
            ],
            "image/png": "[encoded data removed]"
          },
          "metadata": {
            "needs_background": "light"
          }
        }
      ]
    },
    {
      "cell_type": "markdown",
      "source": [
        "**Checking the \"OperatingSystems\" of the visitors**"
      ],
      "metadata": {
        "id": "aYBBPulx4K6o"
      }
    },
    {
      "cell_type": "code",
      "source": [
        "df_original.OperatingSystems.value_counts()"
      ],
      "metadata": {
        "colab": {
          "base_uri": "https://localhost:8080/"
        },
        "id": "YWOhC9X_4XxO",
        "outputId": "e4a46aa8-3bc3-44e5-d7a7-d615711104e7"
      },
      "execution_count": 21,
      "outputs": [
        {
          "output_type": "execute_result",
          "data": {
            "text/plain": [
              "2    6601\n",
              "1    2585\n",
              "3    2555\n",
              "4     478\n",
              "8      79\n",
              "6      19\n",
              "7       7\n",
              "5       6\n",
              "Name: OperatingSystems, dtype: int64"
            ]
          },
          "metadata": {},
          "execution_count": 21
        }
      ]
    },
    {
      "cell_type": "markdown",
      "source": [
        "**Plotting the \"OperatingSystems\" of the visiotrs**"
      ],
      "metadata": {
        "id": "w3m2Q-mz49bb"
      }
    },
    {
      "cell_type": "code",
      "source": [
        "df_original.OperatingSystems.value_counts().plot(kind=\"bar\", color=\"teal\", title=\"Count of OperatingSystems Type\",\n",
        "                                        xlabel= \"OperatingSystems Type\", ylabel=\"Count of sessions\");"
      ],
      "metadata": {
        "colab": {
          "base_uri": "https://localhost:8080/",
          "height": 292
        },
        "id": "3XDAPrxq5DWr",
        "outputId": "efb9bba2-86e5-4a12-923e-a73db9f6ade5"
      },
      "execution_count": 22,
      "outputs": [
        {
          "output_type": "display_data",
          "data": {
            "text/plain": [
              "<Figure size 432x288 with 1 Axes>"
            ],
            "image/png": "[encoded data removed]"
          },
          "metadata": {
            "needs_background": "light"
          }
        }
      ]
    },
    {
      "cell_type": "markdown",
      "source": [
        "* The last two categories of the operating system and the browser type have one majority category, zero in some categories and a medium number for some of their types. This is expected as some operating systems and browsers are very popular amongst users. "
      ],
      "metadata": {
        "id": "MIrrzyJE57h_"
      }
    },
    {
      "cell_type": "markdown",
      "source": [
        "**Checking the \"Month\" of the visits**"
      ],
      "metadata": {
        "id": "WkFz37EN60kW"
      }
    },
    {
      "cell_type": "code",
      "source": [
        "df_original.Month.value_counts()"
      ],
      "metadata": {
        "colab": {
          "base_uri": "https://localhost:8080/"
        },
        "id": "0JT9Huc_6_Xz",
        "outputId": "f6738855-aa53-4cd1-aab9-1c98bc419228"
      },
      "execution_count": 23,
      "outputs": [
        {
          "output_type": "execute_result",
          "data": {
            "text/plain": [
              "May     3364\n",
              "Nov     2998\n",
              "Mar     1907\n",
              "Dec     1727\n",
              "Oct      549\n",
              "Sep      448\n",
              "Aug      433\n",
              "Jul      432\n",
              "June     288\n",
              "Feb      184\n",
              "Name: Month, dtype: int64"
            ]
          },
          "metadata": {},
          "execution_count": 23
        }
      ]
    },
    {
      "cell_type": "markdown",
      "source": [
        "**Visualising the \"Month\" of the visits** "
      ],
      "metadata": {
        "id": "K_J1xmUs7I1f"
      }
    },
    {
      "cell_type": "code",
      "source": [
        "#setting the colors and size of the chart area\n",
        "sns.set_palette(\"pastel\", 10)\n",
        "plt.figure(figsize = (10,8))\n",
        "\n",
        "#creating the chart\n",
        "ax=sns.countplot(data=df_original, x='Month', order=df_original.Month.value_counts().index)\n",
        "\n",
        "#setting the chart and axis labels\n",
        "plt.xlabel(\"Month\", fontsize=12)\n",
        "plt.ylabel(\"Count of sessions\", fontsize=12)\n",
        "plt.title(\"Count and percentage of the Month of the visits \", fontsize=14)\n",
        "\n",
        "#adding the percentage label\n",
        "for p in ax.patches:\n",
        "    percentage = '{:.1f}%'.format(100 * p.get_height()/len(df_original[\"Month\"]))\n",
        "    x = p.get_x() + p.get_width()\n",
        "    y = p.get_height()\n",
        "    ax.annotate(percentage, (x, y),ha='right')"
      ],
      "metadata": {
        "colab": {
          "base_uri": "https://localhost:8080/",
          "height": 517
        },
        "id": "nuilYKEX7Rra",
        "outputId": "9aacbeba-c688-4647-b291-6dedc2aefbe5"
      },
      "execution_count": 24,
      "outputs": [
        {
          "output_type": "display_data",
          "data": {
            "text/plain": [
              "<Figure size 720x576 with 1 Axes>"
            ],
            "image/png": "[encoded data removed]"
          },
          "metadata": {
            "needs_background": "light"
          }
        }
      ]
    },
    {
      "cell_type": "markdown",
      "source": [
        "* As noticed, there are no visits in \"January\" and \"April\". The month of May has the highest number of visits probabely due to closeness to summer vacations period, followed by Novemebr due to closeness to the Christmas time and Holidays.  "
      ],
      "metadata": {
        "id": "JIXXa5AK7rsZ"
      }
    },
    {
      "cell_type": "markdown",
      "source": [
        "-------------------------------------\n",
        "# **EDA for Numerical Variables** \n",
        "-------------------------------------"
      ],
      "metadata": {
        "id": "DcWiTd1eBYqf"
      }
    },
    {
      "cell_type": "markdown",
      "source": [
        "**Exploring \"Administrative\" sessions distribution**"
      ],
      "metadata": {
        "id": "Ds2LZxvcBc7U"
      }
    },
    {
      "cell_type": "code",
      "source": [
        "#setting the chart size and theme\n",
        "plt.figure(figsize = (15,10))\n",
        "sns.set_theme(style=\"whitegrid\")\n",
        "\n",
        "#creating the chart\n",
        "sns.countplot( x=df_original['Administrative'], palette=\"Set2\")\n",
        "\n",
        "#setting the title of the chart and axis \n",
        "plt.title('Distribution of Number of \"Administrative\" pages visited during each visit', \n",
        "          fontsize=20 )\n",
        "plt.xlabel('Number of \"Administrative\" pages visited', fontsize= 14)\n",
        "plt.ylabel('Count of sessions', fontsize= 14)\n",
        "\n",
        "#printing the chart\n",
        "plt.show()"
      ],
      "metadata": {
        "colab": {
          "base_uri": "https://localhost:8080/",
          "height": 633
        },
        "id": "r2tV9eeCBuBV",
        "outputId": "0254ad2f-1c90-4f01-a217-028d572f1767"
      },
      "execution_count": 25,
      "outputs": [
        {
          "output_type": "display_data",
          "data": {
            "text/plain": [
              "<Figure size 1080x720 with 1 Axes>"
            ],
            "image/png": "[encoded data removed]"
          },
          "metadata": {
            "needs_background": "light"
          }
        }
      ]
    },
    {
      "cell_type": "markdown",
      "source": [
        "* As expected the majority of visitors do not access \"Aministrative\" pages during their visit. "
      ],
      "metadata": {
        "id": "S6S1os55HGDx"
      }
    },
    {
      "cell_type": "markdown",
      "source": [
        "**Exploring the \"Administrative_Duration\" distribution**"
      ],
      "metadata": {
        "id": "8yY0yPJoHVwf"
      }
    },
    {
      "cell_type": "code",
      "source": [
        "#setting the chart size and theme\n",
        "plt.figure(figsize = (10,8))\n",
        "sns.set_style('darkgrid')\n",
        "\n",
        "#plotting the distribution by creating bins \n",
        "sns.histplot(df_original [\"Administrative_Duration\"], bins=35, color=\"salmon\")\n",
        "\n",
        "#setting the title of the chart and axis \n",
        "plt.title('Distribution of \"Duration\" of time spent on \"Administrative\" pages', \n",
        "          fontsize=16 )\n",
        "plt.xlabel('Administrative_Duration (seconds)', fontsize= 12)\n",
        "plt.ylabel('Count of sessions', fontsize= 12)\n",
        "\n",
        "#printing the chart\n",
        "plt.show();\n"
      ],
      "metadata": {
        "colab": {
          "base_uri": "https://localhost:8080/",
          "height": 520
        },
        "id": "TYk3qlVtHgkA",
        "outputId": "fe4af585-5de5-441d-db94-14e13461055d"
      },
      "execution_count": 26,
      "outputs": [
        {
          "output_type": "display_data",
          "data": {
            "text/plain": [
              "<Figure size 720x576 with 1 Axes>"
            ],
            "image/png": "[encoded data removed]"
          },
          "metadata": {}
        }
      ]
    },
    {
      "cell_type": "markdown",
      "source": [
        "* The majority of visitors spend 0-100 seconds on \"Administrative\" Pages. "
      ],
      "metadata": {
        "id": "RLFBuORZKTY-"
      }
    },
    {
      "cell_type": "markdown",
      "source": [
        "**Checking the distribution of \"Informational\" pages and their duration which is \"Informational_Duration\"**"
      ],
      "metadata": {
        "id": "WZ_NciWIKcvd"
      }
    },
    {
      "cell_type": "code",
      "source": [
        "#setting the chart size and theme\n",
        "sns.set_style('darkgrid')\n",
        "plt.figure(figsize = (25,10))\n",
        "\n",
        "#using the first place holder for the first chart\n",
        "plt.subplot(1,2,1)\n",
        "\n",
        "#creating the first chart\n",
        "sns.countplot( x = df_original['Informational'], palette=\"pastel\")\n",
        "\n",
        "#setting the first chart's title \n",
        "plt.title('Distribution of number of \"Informational\" pages visited by the users ', fontsize=16)\n",
        "plt.xlabel('Number of Informational Pages visited', fontsize= 12)\n",
        "plt.ylabel('Count of sessions', fontsize= 12)\n",
        "\n",
        "#using the second place holder for the second chart\n",
        "plt.subplot(1,2,2)\n",
        "\n",
        "#setting the second chart's title \n",
        "plt.title('Distribution of \"duration\" spent on \"Informational\" pages by the users', fontsize=16)\n",
        "plt.xlabel('Informational_Duration (seconds)', fontsize= 12)\n",
        "plt.ylabel('Count of sessions', fontsize= 12)\n",
        "\n",
        "#creating the second chart\n",
        "sns.histplot(x = df_original['Informational_Duration'], bins=25, color=\"darkseagreen\")\n",
        "\n",
        "#printing the charts\n",
        "plt.show()"
      ],
      "metadata": {
        "colab": {
          "base_uri": "https://localhost:8080/",
          "height": 629
        },
        "id": "8csGwgJaKz-5",
        "outputId": "5c41d6d1-c6d8-4aae-e31a-2e10181ca7b2"
      },
      "execution_count": 27,
      "outputs": [
        {
          "output_type": "display_data",
          "data": {
            "text/plain": [
              "<Figure size 1800x720 with 2 Axes>"
            ],
            "image/png": "[encoded data removed]"
          },
          "metadata": {}
        }
      ]
    },
    {
      "cell_type": "markdown",
      "source": [
        "* Similar to \"Administrative\", the \"informational\" pages are not accessed during the majority of the visit sessions. The duration spent on these pages is mainly between zero to 100 seconds. "
      ],
      "metadata": {
        "id": "CVD8gvvFM7rS"
      }
    },
    {
      "cell_type": "markdown",
      "source": [
        "**Exploring the distribution for \"ProductRelated\" pages and the duration spent on those pages by the users**"
      ],
      "metadata": {
        "id": "LoQK55jsNUlX"
      }
    },
    {
      "cell_type": "code",
      "source": [
        "#setting the chart size and theme\n",
        "sns.set_style('darkgrid')\n",
        "plt.figure(figsize = (25,10))\n",
        "\n",
        "#using the first place holder for the first chart\n",
        "plt.subplot(1,2,1)\n",
        "\n",
        "#setting the first chart's title \n",
        "plt.title('Distribution of number of \"ProductRelated\" pages visited by the users ', fontsize=16)\n",
        "\n",
        "#creating the first chart\n",
        "sns.histplot( x = df_original['ProductRelated'], bins=35, color=\"tomato\")\n",
        "\n",
        "#using the second place holder for the second chart\n",
        "plt.subplot(1,2,2)\n",
        "\n",
        "#setting the second chart's title \n",
        "plt.title('Distribution of \"duration\" spent on \"ProductRelated\" pages by the users', fontsize=16)\n",
        "\n",
        "#creating the second chart\n",
        "sns.histplot(x = df_original['ProductRelated_Duration'], bins=65, color=\"olive\")\n",
        "\n",
        "#printing the charts\n",
        "plt.show()"
      ],
      "metadata": {
        "colab": {
          "base_uri": "https://localhost:8080/",
          "height": 629
        },
        "id": "z-C7ZAZjNsPo",
        "outputId": "02a287c8-5516-4212-c472-0ecc080ca051"
      },
      "execution_count": 28,
      "outputs": [
        {
          "output_type": "display_data",
          "data": {
            "text/plain": [
              "<Figure size 1800x720 with 2 Axes>"
            ],
            "image/png": "[encoded data removed]"
          },
          "metadata": {}
        }
      ]
    },
    {
      "cell_type": "markdown",
      "source": [
        "* There is an apparant difference on number of ProductRelated pages visited, and total duration spent on those pages compared to \"Administrative\" and \"Informational\" pages.\n",
        "* The majority of visitors access between 0-20 ProductRelated pages and spend 0-1000 seconds on them, which is significantly higher than other types of pages as expected. "
      ],
      "metadata": {
        "id": "RgPIkigfO8Qp"
      }
    },
    {
      "cell_type": "markdown",
      "source": [
        "**Exploring the distribution of \"BounceRates\"**"
      ],
      "metadata": {
        "id": "pEXrQmnOP3Fp"
      }
    },
    {
      "cell_type": "code",
      "source": [
        "#setting the chart size and theme \n",
        "plt.figure(figsize = (8,6))\n",
        "sns.set_theme(style=\"darkgrid\")\n",
        "\n",
        "#creating the chart\n",
        "sns.histplot( x=df_original[\"BounceRates\"], color=\"palevioletred\", bins=8)\n",
        "\n",
        "#setting the chart and axis titles\n",
        "plt.title('Distribution of \"BounceRates\" of the visitors', fontsize=16 )\n",
        "plt.xlabel(\"Average BounceRates\", fontsize= 12)\n",
        "plt.ylabel('Count of sessions', fontsize= 12)\n",
        "\n",
        "#printing the chart\n",
        "plt.show()"
      ],
      "metadata": {
        "colab": {
          "base_uri": "https://localhost:8080/",
          "height": 412
        },
        "id": "72Nfv2BgQHfW",
        "outputId": "a79a81d3-fd7b-4b2e-95a7-de5f02c6ccf4"
      },
      "execution_count": 29,
      "outputs": [
        {
          "output_type": "display_data",
          "data": {
            "text/plain": [
              "<Figure size 576x432 with 1 Axes>"
            ],
            "image/png": "[encoded data removed]"
          },
          "metadata": {}
        }
      ]
    },
    {
      "cell_type": "markdown",
      "source": [
        "* The majority of the sessions, have 0-2.5% average BounceRate of all pages visited during the session. "
      ],
      "metadata": {
        "id": "-s7fMlI6hECT"
      }
    },
    {
      "cell_type": "markdown",
      "source": [
        "**Exploring the distribution of \"ExitRates\"**"
      ],
      "metadata": {
        "id": "5NBv7NpuWdoH"
      }
    },
    {
      "cell_type": "code",
      "source": [
        "#setting the chart size and theme \n",
        "plt.figure(figsize = (8,6))\n",
        "sns.set_theme(style=\"darkgrid\")\n",
        "\n",
        "#creating the chart\n",
        "sns.histplot( x=df_original[\"ExitRates\"], color=\"chocolate\", bins=8)\n",
        "\n",
        "#setting the chart and axis titles\n",
        "plt.title('Distribution of \"ExitRates\" of the visitors', fontsize=16 )\n",
        "plt.xlabel(\"Average ExitRates\", fontsize= 12)\n",
        "plt.ylabel('Count of sessions', fontsize= 12)\n",
        "\n",
        "#printing the chart\n",
        "plt.show()"
      ],
      "metadata": {
        "colab": {
          "base_uri": "https://localhost:8080/",
          "height": 412
        },
        "id": "rKlWR5ejWkiq",
        "outputId": "f90dde5f-f64a-4b84-a6d6-de8fbb4983fb"
      },
      "execution_count": 30,
      "outputs": [
        {
          "output_type": "display_data",
          "data": {
            "text/plain": [
              "<Figure size 576x432 with 1 Axes>"
            ],
            "image/png": "[encoded data removed]"
          },
          "metadata": {}
        }
      ]
    },
    {
      "cell_type": "markdown",
      "source": [
        "* The majority of the sessions, have 0-2.5% average ExitRates for all pages visited during the session, followed by 2.5-5%. "
      ],
      "metadata": {
        "id": "M8I1fefVbdIv"
      }
    },
    {
      "cell_type": "markdown",
      "source": [
        "**Exploring the distribution of \"PageValues\"**"
      ],
      "metadata": {
        "id": "_8z-Qb5nXVWK"
      }
    },
    {
      "cell_type": "code",
      "source": [
        "#setting the chart size and theme \n",
        "plt.figure(figsize = (8,6))\n",
        "sns.set_theme(style=\"darkgrid\")\n",
        "\n",
        "#creating the chart\n",
        "sns.histplot( x=df_original[\"PageValues\"], color=\"mediumseagreen\", bins=36)\n",
        "\n",
        "#setting the chart and axis titles\n",
        "plt.title('Distribution of \"PageValues\"', fontsize=16 )\n",
        "plt.xlabel('Average \"PageValues\" of the pages visited', fontsize= 12)\n",
        "plt.ylabel('Count of sessions', fontsize= 12)\n",
        "\n",
        "#printing the chart\n",
        "plt.show()"
      ],
      "metadata": {
        "colab": {
          "base_uri": "https://localhost:8080/",
          "height": 412
        },
        "id": "KWd-znHLXgjl",
        "outputId": "173defe3-a34b-433a-c974-18011c3d1d6a"
      },
      "execution_count": 31,
      "outputs": [
        {
          "output_type": "display_data",
          "data": {
            "text/plain": [
              "<Figure size 576x432 with 1 Axes>"
            ],
            "image/png": "[encoded data removed]"
          },
          "metadata": {}
        }
      ]
    },
    {
      "cell_type": "markdown",
      "source": [
        "* For the majority of the sessions the average page value of all visited pages during each session falls between zero and 10. "
      ],
      "metadata": {
        "id": "gao2Cs43apvJ"
      }
    },
    {
      "cell_type": "markdown",
      "source": [
        "**Exploring the distribution of \"SpecialDay\"**"
      ],
      "metadata": {
        "id": "PAoUJOA-YS9-"
      }
    },
    {
      "cell_type": "code",
      "source": [
        "#setting the chart size and theme \n",
        "plt.figure(figsize = (8,6))\n",
        "sns.set_theme(style=\"darkgrid\")\n",
        "\n",
        "#creating the chart\n",
        "sns.countplot( x=df_original[\"SpecialDay\"], color=\"orchid\")\n",
        "\n",
        "#setting the chart and axis titles\n",
        "plt.title('Distribution of \"SpecialDay\"', fontsize=16 )\n",
        "plt.xlabel('closeness of a \"SpecialDay\" to the day that page was visited', fontsize= 12)\n",
        "plt.ylabel('Count of sessions', fontsize= 12)\n",
        "\n",
        "#printing the chart\n",
        "plt.show()"
      ],
      "metadata": {
        "colab": {
          "base_uri": "https://localhost:8080/",
          "height": 412
        },
        "id": "XGtBuT42YgSc",
        "outputId": "9cc1323a-b3ac-4d37-f0f3-504bccac1074"
      },
      "execution_count": 32,
      "outputs": [
        {
          "output_type": "display_data",
          "data": {
            "text/plain": [
              "<Figure size 576x432 with 1 Axes>"
            ],
            "image/png": "[encoded data removed]"
          },
          "metadata": {}
        }
      ]
    },
    {
      "cell_type": "markdown",
      "source": [
        "* The majority of visits do not happen close to a special day. This seems to be the result of considerations regarding the delivery period for the purchase. "
      ],
      "metadata": {
        "id": "MbVZRQeTuk4z"
      }
    },
    {
      "cell_type": "markdown",
      "source": [
        "# **Note: Bivariate  and Multi-variate analysis are conducted in separate notebooks.**"
      ],
      "metadata": {
        "id": "WN0CgGbkZc0_"
      }
    }
  ]
}